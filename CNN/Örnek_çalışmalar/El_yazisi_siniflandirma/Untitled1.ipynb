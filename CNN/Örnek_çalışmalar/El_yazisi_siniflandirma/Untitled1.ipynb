{
 "cells": [
  {
   "cell_type": "code",
   "execution_count": 1,
   "metadata": {},
   "outputs": [],
   "source": [
    "# El Yazısı Rakam Tanıma (MNIST Veri seti)"
   ]
  },
  {
   "cell_type": "code",
   "execution_count": null,
   "metadata": {},
   "outputs": [],
   "source": []
  },
  {
   "cell_type": "code",
   "execution_count": 1,
   "metadata": {},
   "outputs": [
    {
     "name": "stderr",
     "output_type": "stream",
     "text": [
      "Using TensorFlow backend.\n"
     ]
    }
   ],
   "source": [
    "import pandas as pd \n",
    "import numpy as np\n",
    "import matplotlib.pyplot as plt\n",
    "import warnings \n",
    "warnings.filterwarnings('ignore')\n",
    "\n",
    "from keras import models\n",
    "from keras.models import Sequential\n",
    "from keras.layers import Conv2D ,MaxPool2D ,LeakyReLU, MaxPooling2D , Dense ,Dropout , Flatten , BatchNormalization\n",
    "from keras.utils import to_categorical\n",
    "from keras.preprocessing.image import ImageDataGenerator\n",
    "from keras.optimizers import Adam ,RMSprop\n",
    "from keras.callbacks import ReduceLROnPlateau\n",
    "\n",
    "\n",
    "import pickle\n",
    "\n",
    "\n",
    "\n",
    "\n",
    "\n",
    "\n"
   ]
  },
  {
   "cell_type": "markdown",
   "metadata": {},
   "source": [
    "# Veri setinin yüklenmesi ve Görselleştirilmesi\n",
    "<hr>\n",
    "\n",
    "## Veri seti hakkında\n",
    "\n",
    "- MNIST veri setinin özellikleri ;\n",
    "    * Veri kümesinde 60.000 el yazısı örneği bulunmaktadır.\n",
    "    * Görüntülerimiz 28x28 'lik pixekden oluşmaktadır.\n",
    "    * Görüntülerimizde yanlızca tek renk kanalı bulunmaktadır.(28 ,28 ,1)\n",
    "    * Görüntülerimiz [0-255] gri tonlama skalası arasında oluşmaktadır (0 = siyah , 255 =beyaz)\n",
    "    * Görüntülerimiz toplam on adet sınıftan oluşmaktadır(rakamlardan)(0 ,1,2 ,3 ,4 ,5 ,6 ,7 ,8 ,9)\n",
    "    \n"
   ]
  },
  {
   "cell_type": "markdown",
   "metadata": {},
   "source": [
    "### Train(Eğitim) Setinin yüklenmesi"
   ]
  },
  {
   "cell_type": "code",
   "execution_count": 2,
   "metadata": {},
   "outputs": [],
   "source": [
    "np.random.seed(1)\n",
    "train = pd.read_csv(\"mnist_train.csv\") # verinin yüklenmesi\n",
    "train = train.iloc[np.random.permutation(len(train))] # Veri setinin karıştırılması\n",
    "\n"
   ]
  },
  {
   "cell_type": "code",
   "execution_count": 3,
   "metadata": {},
   "outputs": [
    {
     "name": "stdout",
     "output_type": "stream",
     "text": [
      "(60000, 785)\n"
     ]
    }
   ],
   "source": [
    "print(train.shape)"
   ]
  },
  {
   "cell_type": "markdown",
   "metadata": {},
   "source": [
    "- Egitim setimizde 60.000 resim vardır ve 1. sutunumuzdaki label değişkeni bizim bu görüntülerimizin etiketidir .\n",
    "- Biz bu etiket değerini y_train olarak ayrıştıracağız.\n",
    "- Veri setimiz (60000 ,784) şeklinde bize sunulmuştur biz bunu yeniden şekillendirme ile (60000 ,28 ,28 ,1) boyutuna getireceğiz"
   ]
  },
  {
   "cell_type": "markdown",
   "metadata": {},
   "source": [
    "<br> \n",
    "\n",
    "###  Test Setinin Yüklenmesi\n",
    "\n",
    "   * Test setimiz 10000 adet görsel içermektedir ,train setimizde olduğu gimi ilk sutunumuz veri setimizdeki resimlerin etiketidir.\n",
    "   * Train seti için yaptığımız içlemleri bunun üzrindede uygulayacağız\n",
    "    "
   ]
  },
  {
   "cell_type": "code",
   "execution_count": 4,
   "metadata": {},
   "outputs": [],
   "source": [
    "test = pd.read_csv(\"mnist_test.csv\")\n",
    "x_test = np.asarray( test.iloc[: ,1:] ).reshape([-1 ,28 ,28 ,1])\n",
    "y_test = np.asarray( test.iloc[: ,0]).reshape(test.shape[0] ,1)"
   ]
  },
  {
   "cell_type": "markdown",
   "metadata": {},
   "source": [
    "\n",
    "<br>\n",
    "<br>\n",
    "\n",
    "## Eğitim ve Validasyon Verilerinin Hazırlanması\n",
    "- Birkaç adım gerektir ;\n",
    "    * Validasyon seti eğitim setimizin %10'undan oluşacak .\n",
    "    * Her iki seti de yeniden şekillendireceğiz . (28 ,28 ,1)\n",
    "    * Her iki set için etiketleri bölümleyeceğiz(\"Label\")\n",
    "    * Ben ayırma işleminde df.iloc[] ,np.asarray() gibi metodlar kullanacağım siz bunlarla ugraşmak istemez iseniz sklearn.model_selection içerisindeki train_test_split metodunu kullanabilirsiniz\n",
    "    "
   ]
  },
  {
   "cell_type": "code",
   "execution_count": 5,
   "metadata": {},
   "outputs": [],
   "source": [
    "total_size = train.shape[0] # veri setimizin toplam boyutunun 0. indexi  = 60000\n",
    "validation_size = int(train.shape[0]*0.1) # valide edeceğimiz boyut\n",
    "\n",
    "# asarray fonksiyonunu reshape hatası vermesin diye kullanıyoruz \n",
    "# (28 ,28 ,1 ) ile resimlendirmeye ve öğrenmeye(keras modellemesine) hazır hale getiriyoruz\n",
    "\n",
    "# train_X ve train_y\n",
    "x_train = np.asarray( train.iloc[ validation_size : , 1: ]).reshape(\n",
    "    [total_size - validation_size , 28 ,28 ,1])\n",
    "\n",
    "y_train = np.asarray( train.iloc[ validation_size : , 0 ]).reshape(\n",
    "    [total_size - validation_size , 1])\n",
    "\n",
    "# val_x ve val_y\n",
    "\n",
    "x_val = np.asarray( train.iloc[ :validation_size  , 1:  ]).reshape(\n",
    "    [validation_size , 28 ,28 ,1])\n",
    "\n",
    "y_val = np.asarray( train.iloc[ :validation_size , 0]).reshape(\n",
    "    [validation_size , 1])"
   ]
  },
  {
   "cell_type": "code",
   "execution_count": 6,
   "metadata": {},
   "outputs": [
    {
     "name": "stdout",
     "output_type": "stream",
     "text": [
      "Data_sets Shape ;\n",
      " X_train :(54000, 28, 28, 1)\n",
      " Y_train : (54000, 1)\n",
      " X_val : (6000, 28, 28, 1)\n",
      " Y_val : (6000, 1)\n",
      " X_test : (10000, 28, 28, 1)\n",
      " y_test : (10000, 1)\n"
     ]
    }
   ],
   "source": [
    "\n",
    "print(\"Data_sets Shape ;\")\n",
    "print(f\" X_train :{ x_train.shape }\\n Y_train : { y_train.shape }\\n X_val : { x_val.shape }\\n Y_val : { y_val.shape }\\n X_test : {x_test.shape}\\n y_test : {y_test.shape}\")\n"
   ]
  },
  {
   "cell_type": "code",
   "execution_count": null,
   "metadata": {},
   "outputs": [],
   "source": []
  },
  {
   "cell_type": "markdown",
   "metadata": {},
   "source": [
    "# Pixel Verilerinin Normalleştirilmesi (Normalize)\n",
    "- Her piksel değerimiz [0 - 250] arasındadır. Bu değer aralığı oğrenmemizi yavaşlatıp ,zorlaştıracapı için Normalleştirmenin yapılması gereklidir. \n",
    "- Her pikseli 255 ile normalleştirdiğimiz için değerlerimiz [0 - 1 ] arasınıa ölçeklenecektir."
   ]
  },
  {
   "cell_type": "code",
   "execution_count": 7,
   "metadata": {},
   "outputs": [],
   "source": [
    "x_train = x_train / 255\n",
    "x_val = x_val / 255\n",
    "x_test = x_test / 255\n"
   ]
  },
  {
   "cell_type": "code",
   "execution_count": null,
   "metadata": {},
   "outputs": [],
   "source": []
  },
  {
   "cell_type": "markdown",
   "metadata": {},
   "source": [
    "# Rakamların ve Veri Kümesinin görselleştirilmesi\n",
    "\n",
    "- İlk olarak veri Kümemizdeki sınıfların sayısına bakmalıyız.\n",
    "- Sonradan modellememizi etkileyeceğinden dolayı valdasyon ve test setimizdeki sınıf sayıları kendi içlerinde  ve train setine göre birbirlerine yakın şekilde dağılmalıdır aksi halde verimizde çarpıklıklara neden olabilir . Ancak bu herzaman böyle olacak diye bir şart yoktur.\n"
   ]
  },
  {
   "cell_type": "markdown",
   "metadata": {},
   "source": [
    "<br>\n",
    "\n",
    "### Train (egitim) setindeki Label değişkeninin sınıf sayıları :"
   ]
  },
  {
   "cell_type": "code",
   "execution_count": 8,
   "metadata": {},
   "outputs": [
    {
     "data": {
      "text/html": [
       "<div>\n",
       "<style scoped>\n",
       "    .dataframe tbody tr th:only-of-type {\n",
       "        vertical-align: middle;\n",
       "    }\n",
       "\n",
       "    .dataframe tbody tr th {\n",
       "        vertical-align: top;\n",
       "    }\n",
       "\n",
       "    .dataframe thead th {\n",
       "        text-align: right;\n",
       "    }\n",
       "</style>\n",
       "<table border=\"1\" class=\"dataframe\">\n",
       "  <thead>\n",
       "    <tr style=\"text-align: right;\">\n",
       "      <th></th>\n",
       "      <th>label</th>\n",
       "    </tr>\n",
       "  </thead>\n",
       "  <tbody>\n",
       "    <tr>\n",
       "      <th>15281</th>\n",
       "      <td>3</td>\n",
       "    </tr>\n",
       "    <tr>\n",
       "      <th>21435</th>\n",
       "      <td>2</td>\n",
       "    </tr>\n",
       "    <tr>\n",
       "      <th>44536</th>\n",
       "      <td>7</td>\n",
       "    </tr>\n",
       "    <tr>\n",
       "      <th>13518</th>\n",
       "      <td>8</td>\n",
       "    </tr>\n",
       "    <tr>\n",
       "      <th>47529</th>\n",
       "      <td>2</td>\n",
       "    </tr>\n",
       "    <tr>\n",
       "      <th>...</th>\n",
       "      <td>...</td>\n",
       "    </tr>\n",
       "    <tr>\n",
       "      <th>50057</th>\n",
       "      <td>0</td>\n",
       "    </tr>\n",
       "    <tr>\n",
       "      <th>32511</th>\n",
       "      <td>5</td>\n",
       "    </tr>\n",
       "    <tr>\n",
       "      <th>5192</th>\n",
       "      <td>0</td>\n",
       "    </tr>\n",
       "    <tr>\n",
       "      <th>12172</th>\n",
       "      <td>9</td>\n",
       "    </tr>\n",
       "    <tr>\n",
       "      <th>33003</th>\n",
       "      <td>0</td>\n",
       "    </tr>\n",
       "  </tbody>\n",
       "</table>\n",
       "<p>60000 rows × 1 columns</p>\n",
       "</div>"
      ],
      "text/plain": [
       "       label\n",
       "15281      3\n",
       "21435      2\n",
       "44536      7\n",
       "13518      8\n",
       "47529      2\n",
       "...      ...\n",
       "50057      0\n",
       "32511      5\n",
       "5192       0\n",
       "12172      9\n",
       "33003      0\n",
       "\n",
       "[60000 rows x 1 columns]"
      ]
     },
     "execution_count": 8,
     "metadata": {},
     "output_type": "execute_result"
    }
   ],
   "source": [
    "pd.DataFrame(train ,columns = [\"label\"])"
   ]
  },
  {
   "cell_type": "code",
   "execution_count": 9,
   "metadata": {},
   "outputs": [
    {
     "data": {
      "image/png": "[encoded data removed]",
      "text/plain": [
       "<Figure size 792x576 with 1 Axes>"
      ]
     },
     "metadata": {
      "needs_background": "light"
     },
     "output_type": "display_data"
    }
   ],
   "source": [
    "counts = pd.DataFrame(y_train ,columns = [\"label\"]).groupby(\"label\")[\"label\"].count()\n",
    "\n",
    "figure = plt.figure(figsize = (11 ,8))\n",
    "figure.add_subplot(111)\n",
    "\n",
    "plt.bar(x = counts.index,\n",
    "        height = counts.values,\n",
    "        width =0.7,\n",
    "        color = \"green\" )\n",
    "\n",
    "for i in counts.index:\n",
    "    plt.text(x =  i ,\n",
    "             y = counts.values[i] +50, # barların üztündeki sayılar barlara doğru girmesin diye yaptık\n",
    "             s = str(counts.values[i]), #bar üzerindeki sayı\n",
    "             horizontalalignment = \"center\",# bar üzerindeki sayının hizalanması\n",
    "             fontsize = 15\n",
    "            )\n",
    "plt.tick_params(labelsize = 14) # x ve y eksenindeki sayıların boyutunu(görsel) arttırır\n",
    "plt.xticks(counts.index) # bunu koymaz isek x eksenindeki sayılar 2 şer ikişer artar \n",
    "plt.xlabel(\"Sınıflar(Rakamlar)\",fontsize=15)\n",
    "plt.ylabel(\"Tekrar etme sıklığı\",fontsize=15)\n",
    "plt.title(\"Train kümesindeki sınıfların frekansı\",fontsize=20)\n",
    "plt.savefig('digit_frequency_train.png')  \n",
    "plt.show()"
   ]
  },
  {
   "cell_type": "code",
   "execution_count": 10,
   "metadata": {},
   "outputs": [
    {
     "data": {
      "text/plain": [
       "1    6046\n",
       "7    5641\n",
       "3    5495\n",
       "9    5388\n",
       "0    5366\n",
       "2    5356\n",
       "6    5291\n",
       "8    5275\n",
       "4    5267\n",
       "5    4875\n",
       "Name: 0, dtype: int64"
      ]
     },
     "execution_count": 10,
     "metadata": {},
     "output_type": "execute_result"
    }
   ],
   "source": [
    "pd.DataFrame(y_train)[0].value_counts()"
   ]
  },
  {
   "cell_type": "markdown",
   "metadata": {},
   "source": [
    "<br>\n",
    "<br>\n",
    "\n",
    "## Validasyon setindeki Label değişkeninin sınıf sayıları :"
   ]
  },
  {
   "cell_type": "code",
   "execution_count": 11,
   "metadata": {},
   "outputs": [
    {
     "data": {
      "image/png": "[encoded data removed]",
      "text/plain": [
       "<Figure size 792x576 with 1 Axes>"
      ]
     },
     "metadata": {
      "needs_background": "light"
     },
     "output_type": "display_data"
    }
   ],
   "source": [
    "counts = pd.DataFrame(y_val , columns = [\"label\"]).groupby(\"label\")[\"label\"].count()\n",
    "\n",
    "figure = plt.figure(figsize = (11 ,8))\n",
    "figure.add_subplot(111)\n",
    "\n",
    "plt.bar(x = counts.index,\n",
    "        height = counts.values,\n",
    "        width =0.7,\n",
    "        color = \"aqua\" )\n",
    "\n",
    "for i in counts.index:\n",
    "    plt.text(\n",
    "        x = i,\n",
    "        y = counts.index[i] + 50,\n",
    "        s = str(counts.values[i]),\n",
    "        horizontalalignment = \"center\",\n",
    "        fontsize = 15 )\n",
    "    \n",
    "plt.tick_params(labelsize = 14)\n",
    "plt.xticks(counts.index)\n",
    "plt.xlabel(\"Sınıflar(Rakamlar)\",fontsize=15)\n",
    "plt.ylabel(\"Tekrar etme sıklığı\",fontsize=15)\n",
    "plt.title(\"Validasyon kümesindeki sınıfların frekansı\",fontsize=20)\n",
    "plt.savefig('digit_frequency_val.png')  \n",
    "plt.show()"
   ]
  },
  {
   "cell_type": "code",
   "execution_count": 12,
   "metadata": {},
   "outputs": [
    {
     "data": {
      "text/plain": [
       "1    6046\n",
       "7    5641\n",
       "3    5495\n",
       "9    5388\n",
       "0    5366\n",
       "2    5356\n",
       "6    5291\n",
       "8    5275\n",
       "4    5267\n",
       "5    4875\n",
       "Name: 0, dtype: int64"
      ]
     },
     "execution_count": 12,
     "metadata": {},
     "output_type": "execute_result"
    }
   ],
   "source": [
    "\n",
    "pd.DataFrame(y_train)[0].value_counts()"
   ]
  },
  {
   "cell_type": "markdown",
   "metadata": {},
   "source": [
    "<br>\n",
    "<br>\n",
    "\n",
    "### Test setindeki Label değişkeninin sınıf sayıları :"
   ]
  },
  {
   "cell_type": "code",
   "execution_count": 13,
   "metadata": {},
   "outputs": [
    {
     "data": {
      "image/png": "[encoded data removed]",
      "text/plain": [
       "<Figure size 792x504 with 1 Axes>"
      ]
     },
     "metadata": {
      "needs_background": "light"
     },
     "output_type": "display_data"
    }
   ],
   "source": [
    "counts = pd.DataFrame(test , columns = [\"label\"]).groupby(\"label\")[\"label\"].count()\n",
    "\n",
    "figure = plt.figure(figsize=(11 ,7))\n",
    "figure.add_subplot(111)\n",
    "\n",
    "plt.bar(x = counts.index,\n",
    "        height = counts.values,\n",
    "        width =0.7,\n",
    "        color = \"red\" )\n",
    "\n",
    "for i in counts.index:\n",
    "    plt.text(\n",
    "        x = i,\n",
    "        y = counts.values[i] + 50,\n",
    "        s = str(counts.values[i]),\n",
    "        horizontalalignment = \"center\",\n",
    "        fontsize = 15)\n",
    "    \n",
    "plt.tick_params(labelsize = 14)\n",
    "plt.xticks(counts.index)\n",
    "plt.xlabel(\"Sınıflar(Rakamlar)\",fontsize=15)\n",
    "plt.ylabel(\"Tekrar etme sıklığı\",fontsize=15)\n",
    "plt.title(\"Test kümesindeki sınıfların frekansı\",fontsize=20)\n",
    "plt.savefig('digit_frequency_val.png')  \n",
    "plt.show()"
   ]
  },
  {
   "cell_type": "markdown",
   "metadata": {},
   "source": [
    "- Veri setinmizdeki sınıf sayılarında herhangi bir anormal durum yok gönül rahatlığı ile devam edebiliriz\n"
   ]
  },
  {
   "cell_type": "code",
   "execution_count": 16,
   "metadata": {},
   "outputs": [
    {
     "data": {
      "image/png": "[encoded data removed]",
      "text/plain": [
       "<Figure size 864x720 with 30 Axes>"
      ]
     },
     "metadata": {
      "needs_background": "light"
     },
     "output_type": "display_data"
    }
   ],
   "source": [
    "# Etiketleri(rakamları) görselleştirme\n",
    "rows = 5\n",
    "cols = 6\n",
    "figure = plt.figure(figsize=(2*cols,2*rows)) #oluşucak toplam şekilerrin boyutu \n",
    "\n",
    "for i in range(rows*cols):\n",
    "    figure.add_subplot(rows ,cols ,i+1) # her dönüşte şekle yeni grafik ekler\n",
    "    plt.imshow(x_train[i].reshape([28 ,28]), cmap=\"Blues\")\n",
    "    plt.axis(\"off\")\n",
    "    plt.title(str(y_train[i]), y = 0.0,color = \"red\")\n",
    "    \n",
    "plt.savefig(\"digits.png\")"
   ]
  },
  {
   "cell_type": "markdown",
   "metadata": {},
   "source": [
    "<br> \n",
    "<br> \n",
    "\n",
    "# Model Kurma (Keras)\n",
    "   - Seqential Model\n",
    "   - Function API\n",
    "    \n",
    "### Model'in açıklanması:\n",
    "   - 2 Convolutional Bloks\n",
    "        * modelimizindeki  Her Blok'ta LeakyReIU aktivasyon katmanlarına sahip Conv2D katmanı  ,MaxPoolin katmanı ve en son Dropout katmanından oluşmaktadır\n",
    "        \n",
    "   - Ardından Flaatten ve Output katmanımız vardır \n",
    "   - MaxPooling2D katmanını görüntünün boyutunu küçültmek için kullanıyoruz.Örneğin (28 ,28)'lik boyuttaki resimimizi (2,2) boyutluk filtre uygulayarak , (14 ,14) 'luk boyuta indirgeriz bu sayede daha hızlı öğrenme uygulayabiliriz ve overfitting'i engelleriz\n",
    "   - Output katmanı sigmoid fonksitonlu ve 10 nodes(düğüm)' e sahiptir"
   ]
  },
  {
   "cell_type": "code",
   "execution_count": 23,
   "metadata": {},
   "outputs": [],
   "source": [
    "model = Sequential()\n",
    "\n",
    "# Block 1\n",
    "model.add(Conv2D(filters = 32 ,kernel_size = 3 , padding = \"same\" ,input_shape = (28,28,1)))\n",
    "model.add(LeakyReLU())\n",
    "model.add(Conv2D(filters = 32 ,kernel_size = 3 ,padding = \"same\"))\n",
    "model.add(LeakyReLU())\n",
    "model.add(MaxPool2D(pool_size = (2,2)))\n",
    "model.add(Dropout(0.25))\n",
    "\n",
    "\n",
    "# Block 2\n",
    "model.add(Conv2D(filters = 32 ,kernel_size = 3 ,padding = \"same\"))\n",
    "model.add(LeakyReLU())\n",
    "model.add(Conv2D(filters = 64 ,kernel_size = 3 ,padding = \"same\"))\n",
    "model.add(LeakyReLU())\n",
    "model.add(MaxPool2D(pool_size = (2 ,2)))\n",
    "model.add(Dropout(0.25))\n",
    "\n",
    "model.add(Flatten())\n",
    "\n",
    "model.add(Dense(units = 256 ,activation = \"relu\"))\n",
    "model.add(Dense(units = 32  ,activation = \"relu\"))\n",
    "model.add(Dense(units = 10  ,activation = \"sigmoid\"))\n",
    "\n"
   ]
  },
  {
   "cell_type": "markdown",
   "metadata": {},
   "source": [
    "<br>\n",
    "<br>\n",
    "\n",
    "### Derleme Modeli\n"
   ]
  },
  {
   "cell_type": "code",
   "execution_count": 24,
   "metadata": {},
   "outputs": [
    {
     "name": "stdout",
     "output_type": "stream",
     "text": [
      "Model: \"sequential_4\"\n",
      "_________________________________________________________________\n",
      "Layer (type)                 Output Shape              Param #   \n",
      "=================================================================\n",
      "conv2d_7 (Conv2D)            (None, 28, 28, 32)        320       \n",
      "_________________________________________________________________\n",
      "leaky_re_lu_6 (LeakyReLU)    (None, 28, 28, 32)        0         \n",
      "_________________________________________________________________\n",
      "conv2d_8 (Conv2D)            (None, 28, 28, 32)        9248      \n",
      "_________________________________________________________________\n",
      "leaky_re_lu_7 (LeakyReLU)    (None, 28, 28, 32)        0         \n",
      "_________________________________________________________________\n",
      "max_pooling2d_3 (MaxPooling2 (None, 14, 14, 32)        0         \n",
      "_________________________________________________________________\n",
      "dropout_3 (Dropout)          (None, 14, 14, 32)        0         \n",
      "_________________________________________________________________\n",
      "conv2d_9 (Conv2D)            (None, 14, 14, 32)        9248      \n",
      "_________________________________________________________________\n",
      "leaky_re_lu_8 (LeakyReLU)    (None, 14, 14, 32)        0         \n",
      "_________________________________________________________________\n",
      "conv2d_10 (Conv2D)           (None, 14, 14, 64)        18496     \n",
      "_________________________________________________________________\n",
      "leaky_re_lu_9 (LeakyReLU)    (None, 14, 14, 64)        0         \n",
      "_________________________________________________________________\n",
      "max_pooling2d_4 (MaxPooling2 (None, 7, 7, 64)          0         \n",
      "_________________________________________________________________\n",
      "dropout_4 (Dropout)          (None, 7, 7, 64)          0         \n",
      "_________________________________________________________________\n",
      "flatten_1 (Flatten)          (None, 3136)              0         \n",
      "_________________________________________________________________\n",
      "dense_1 (Dense)              (None, 256)               803072    \n",
      "_________________________________________________________________\n",
      "dense_2 (Dense)              (None, 32)                8224      \n",
      "_________________________________________________________________\n",
      "dense_3 (Dense)              (None, 10)                330       \n",
      "=================================================================\n",
      "Total params: 848,938\n",
      "Trainable params: 848,938\n",
      "Non-trainable params: 0\n",
      "_________________________________________________________________\n"
     ]
    }
   ],
   "source": [
    "initial_lr = 0.001\n",
    "loss = \"sparse_categorical_crossentropy\"\n",
    "model.compile(Adam(lr=initial_lr), loss=loss ,metrics=['accuracy'])\n",
    "model.summary()"
   ]
  },
  {
   "cell_type": "markdown",
   "metadata": {},
   "source": [
    "<br>\n",
    "<br>\n",
    "\n",
    "### Training (Modelimizi eğitelim)\n",
    "- Modeli eğitmek için model.fit() kullanlır. İçerisine çeşitli parametreler alır , batch_size ve epochs gibi.\n",
    "\n"
   ]
  },
  {
   "cell_type": "code",
   "execution_count": 28,
   "metadata": {},
   "outputs": [
    {
     "name": "stdout",
     "output_type": "stream",
     "text": [
      "Train on 54000 samples, validate on 6000 samples\n",
      "Epoch 1/1\n",
      "54000/54000 [==============================] - 56s 1ms/step - loss: 0.5621 - accuracy: 0.4334 - val_loss: 0.0778 - val_accuracy: 0.9777\n"
     ]
    }
   ],
   "source": [
    "epochs = 1 #20 epoch \n",
    "batch_size = 256 \n",
    "history_1 = model.fit(x = x_train , y= y_train ,\n",
    "                     validation_data = [x_val ,y_val],\n",
    "                     batch_size = batch_size,\n",
    "                     epochs = epochs)"
   ]
  },
  {
   "cell_type": "code",
   "execution_count": 30,
   "metadata": {},
   "outputs": [],
   "source": [
    "import pickle\n",
    "model.save(\"model.h5\")\n",
    "with open(\"history_1.h5\" , \"wb\") as history :\n",
    "    pickle.dump(history_1 ,history)\n",
    "    "
   ]
  },
  {
   "cell_type": "code",
   "execution_count": 36,
   "metadata": {},
   "outputs": [],
   "source": [
    "model = models.load_model(\"model.h5\")\n",
    "with open(\"history_1.h5\" ,\"rb\") as history:\n",
    "    history_1 = pickle.load(history)\n",
    "    "
   ]
  },
  {
   "cell_type": "code",
   "execution_count": 37,
   "metadata": {},
   "outputs": [
    {
     "ename": "SyntaxError",
     "evalue": "invalid syntax (<ipython-input-37-e8f8dce34e6f>, line 1)",
     "output_type": "error",
     "traceback": [
      "\u001b[1;36m  File \u001b[1;32m\"<ipython-input-37-e8f8dce34e6f>\"\u001b[1;36m, line \u001b[1;32m1\u001b[0m\n\u001b[1;33m    <br>\u001b[0m\n\u001b[1;37m    ^\u001b[0m\n\u001b[1;31mSyntaxError\u001b[0m\u001b[1;31m:\u001b[0m invalid syntax\n"
     ]
    }
   ],
   "source": [
    "<br>\n",
    "<br>"
   ]
  },
  {
   "cell_type": "code",
   "execution_count": null,
   "metadata": {},
   "outputs": [],
   "source": []
  }
 ],
 "metadata": {
  "kernelspec": {
   "display_name": "Python 3",
   "language": "python",
   "name": "python3"
  },
  "language_info": {
   "codemirror_mode": {
    "name": "ipython",
    "version": 3
   },
   "file_extension": ".py",
   "mimetype": "text/x-python",
   "name": "python",
   "nbconvert_exporter": "python",
   "pygments_lexer": "ipython3",
   "version": "3.7.6"
  }
 },
 "nbformat": 4,
 "nbformat_minor": 4
}
