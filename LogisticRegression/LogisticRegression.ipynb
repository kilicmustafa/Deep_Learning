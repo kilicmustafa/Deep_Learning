{
 "cells": [
  {
   "cell_type": "code",
   "execution_count": 1,
   "metadata": {},
   "outputs": [],
   "source": [
    "import numpy as np\n",
    "import pandas as pd\n",
    "import matplotlib.pyplot as plt\n",
    "\n",
    "import warnings\n",
    "warnings.filterwarnings(\"ignore\")"
   ]
  },
  {
   "cell_type": "code",
   "execution_count": 2,
   "metadata": {},
   "outputs": [],
   "source": [
    "x_l = np.load( \"X.npy\" )\n",
    "Y_l = np.load( \"y.npy\" )\n",
    "\n",
    "\n"
   ]
  },
  {
   "cell_type": "code",
   "execution_count": 3,
   "metadata": {},
   "outputs": [
    {
     "data": {
      "text/plain": [
       "(-0.5, 63.5, 63.5, -0.5)"
      ]
     },
     "execution_count": 3,
     "metadata": {},
     "output_type": "execute_result"
    },
    {
     "data": {
      "image/png": "[encoded data removed]",
      "text/plain": [
       "<Figure size 432x288 with 2 Axes>"
      ]
     },
     "metadata": {
      "needs_background": "light"
     },
     "output_type": "display_data"
    }
   ],
   "source": [
    "img_size = 64\n",
    "plt.subplot( 1 ,2 ,1 )\n",
    "plt.imshow( x_l[260].reshape( img_size , img_size ) )\n",
    "plt.axis( \"off\" )\n",
    "plt.subplot( 1 ,2 ,2 )\n",
    "plt.imshow( x_l[900].reshape( img_size , img_size ) ) \n",
    "plt.axis( \"off\" )"
   ]
  },
  {
   "cell_type": "code",
   "execution_count": 4,
   "metadata": {},
   "outputs": [
    {
     "data": {
      "text/plain": [
       "(2062, 64, 64)"
      ]
     },
     "execution_count": 4,
     "metadata": {},
     "output_type": "execute_result"
    }
   ],
   "source": [
    "x_l.shape"
   ]
  },
  {
   "cell_type": "code",
   "execution_count": 5,
   "metadata": {},
   "outputs": [
    {
     "data": {
      "text/plain": [
       "(2062, 10)"
      ]
     },
     "execution_count": 5,
     "metadata": {},
     "output_type": "execute_result"
    }
   ],
   "source": [
    "Y_l.shape"
   ]
  },
  {
   "cell_type": "markdown",
   "metadata": {},
   "source": [
    "- veri seti içerisin 0 dan 204'e kadar sıfır işareti , 822'den 1027'a kadarda bir işareti bulunmaktadır\n",
    "- şimdi bunları ayrıştıralım "
   ]
  },
  {
   "cell_type": "code",
   "execution_count": 6,
   "metadata": {},
   "outputs": [
    {
     "name": "stdout",
     "output_type": "stream",
     "text": [
      "X shape  (410, 64, 64)\n",
      "Y shape (410, 1)\n"
     ]
    }
   ],
   "source": [
    "X = np.concatenate( (x_l[204 : 409] , x_l[822 : 1027]) ,axis = 0 )\n",
    "z = np.zeros( 205 )# 205 tane 0\n",
    "o = np.ones( 205 ) # 205 tane 1\n",
    "Y = np.concatenate( (z ,o) ,axis = 0 ).reshape( X.shape[0] ,1 ) \n",
    "# y değerimiz X değerlerimizin karşılığıdır \n",
    "\n",
    "print( \"X shape \" ,X.shape )\n",
    "print( \"Y shape\"  ,Y.shape )\n"
   ]
  },
  {
   "cell_type": "markdown",
   "metadata": {},
   "source": [
    " "
   ]
  },
  {
   "cell_type": "markdown",
   "metadata": {},
   "source": [
    " \n",
    " "
   ]
  },
  {
   "cell_type": "markdown",
   "metadata": {},
   "source": [
    "### Veri setini Train - Test olarak ayırma "
   ]
  },
  {
   "cell_type": "code",
   "execution_count": 7,
   "metadata": {},
   "outputs": [],
   "source": [
    "from sklearn.model_selection import train_test_split\n",
    "X_train , X_test ,y_train ,y_test  = train_test_split( X ,Y , test_size = .15 ,random_state =  42 )"
   ]
  },
  {
   "cell_type": "code",
   "execution_count": 8,
   "metadata": {},
   "outputs": [
    {
     "data": {
      "text/plain": [
       "348"
      ]
     },
     "execution_count": 8,
     "metadata": {},
     "output_type": "execute_result"
    }
   ],
   "source": [
    "X_train.shape[0]"
   ]
  },
  {
   "cell_type": "code",
   "execution_count": 9,
   "metadata": {},
   "outputs": [
    {
     "data": {
      "text/plain": [
       "62"
      ]
     },
     "execution_count": 9,
     "metadata": {},
     "output_type": "execute_result"
    }
   ],
   "source": [
    "X_test.shape[0]"
   ]
  },
  {
   "cell_type": "code",
   "execution_count": 10,
   "metadata": {},
   "outputs": [],
   "source": [
    "number_of_train = X_train.shape[0]\n",
    "number_of_test = X_test.shape[0]"
   ]
  },
  {
   "cell_type": "code",
   "execution_count": null,
   "metadata": {},
   "outputs": [],
   "source": []
  },
  {
   "cell_type": "markdown",
   "metadata": {},
   "source": [
    "### Train - ve test setindeki 3 boyuıtlu matrixi iki boyuta indirgeme "
   ]
  },
  {
   "cell_type": "code",
   "execution_count": 11,
   "metadata": {},
   "outputs": [
    {
     "name": "stdout",
     "output_type": "stream",
     "text": [
      "(348, 4096)\n",
      "(62, 4096)\n"
     ]
    }
   ],
   "source": [
    "X_train_flatten = X_train.reshape( number_of_train ,X_train.shape[1]  * X_train.shape[2] )\n",
    "X_test_flatten  = X_test.reshape( number_of_test ,X_test.shape[1] * X_test.shape[2] )\n",
    "print( X_train_flatten.shape )\n",
    "print( X_test_flatten.shape )"
   ]
  },
  {
   "cell_type": "markdown",
   "metadata": {},
   "source": [
    "<a href=\"http://ibb.co/bWMK7c\"><img src=\"http://image.ibb.co/fOqCSc/3.png\" alt=\"3\" border=\"0\"></a>"
   ]
  },
  {
   "cell_type": "markdown",
   "metadata": {},
   "source": [
    "### Matrix hesaplamalarının yapılabilmesi için Transpoz alma işlemi"
   ]
  },
  {
   "cell_type": "code",
   "execution_count": 12,
   "metadata": {},
   "outputs": [
    {
     "name": "stdout",
     "output_type": "stream",
     "text": [
      "X train  (4096, 348)\n",
      "x test (4096, 62)\n",
      "y_train (1, 348)\n",
      "y_test (1, 62)\n"
     ]
    }
   ],
   "source": [
    "x_train = X_train_flatten.T\n",
    "x_test = X_test_flatten.T\n",
    "y_train = y_train.T\n",
    "y_test = y_test.T\n",
    "\n",
    "print( \"X train \" ,x_train.shape )\n",
    "print( \"x test\" ,x_test.shape )\n",
    "print( \"y_train\" ,y_train.shape )\n",
    "print( \"y_test\"  ,y_test.shape)"
   ]
  },
  {
   "cell_type": "code",
   "execution_count": null,
   "metadata": {},
   "outputs": [],
   "source": []
  },
  {
   "cell_type": "markdown",
   "metadata": {},
   "source": [
    "# Logistic Regression"
   ]
  },
  {
   "cell_type": "markdown",
   "metadata": {},
   "source": [
    "\n",
    "<a href=\"http://ibb.co/c574qx\"><img src=\"http://preview.ibb.co/cxP63H/5.jpg\" alt=\"5\" border=\"0\"></a>\n"
   ]
  },
  {
   "cell_type": "code",
   "execution_count": null,
   "metadata": {},
   "outputs": [],
   "source": []
  },
  {
   "cell_type": "markdown",
   "metadata": {},
   "source": [
    "## Initializing parameters (Parametrelerin Başlangıcı)"
   ]
  },
  {
   "cell_type": "markdown",
   "metadata": {},
   "source": [
    "#### W _ B değerlerinin matrix'e işlenmesi"
   ]
  },
  {
   "cell_type": "markdown",
   "metadata": {},
   "source": [
    "- Veri setimizde 4096 tane piksel mevcut\n",
    "- Her pikseli kendi agırlıkları vardır \n"
   ]
  },
  {
   "cell_type": "code",
   "execution_count": 13,
   "metadata": {},
   "outputs": [],
   "source": [
    "def initialize_weights_and_bias( boyut ):\n",
    "    w = np.full( (boyut ,1) ,0.01 )# ... boyutlu dizi oluştur ve içlerini 0.01 ile doldur\n",
    "    b = 0.0\n",
    "    return w ,b"
   ]
  },
  {
   "cell_type": "markdown",
   "metadata": {},
   "source": [
    " "
   ]
  },
  {
   "cell_type": "markdown",
   "metadata": {},
   "source": [
    "# Forward Propagation ( ileriye Yayılma )"
   ]
  },
  {
   "cell_type": "markdown",
   "metadata": {},
   "source": [
    " - z = (w.T)x + b\n",
    " - y_head = olasılık donduren sigmoit değeri"
   ]
  },
  {
   "cell_type": "code",
   "execution_count": 14,
   "metadata": {},
   "outputs": [],
   "source": [
    "# z =np.dot( w.T ,x_train )+ b \n",
    "# np.dot , matrixleri çarpmaya yarar\n",
    "# y_head = sigmoid(z)"
   ]
  },
  {
   "cell_type": "code",
   "execution_count": 15,
   "metadata": {},
   "outputs": [],
   "source": [
    "def sigmoid(z):\n",
    "    y_head = 1/(1 + np.exp(-z))\n",
    "    return y_head\n",
    "\n"
   ]
  },
  {
   "cell_type": "markdown",
   "metadata": {},
   "source": [
    "- Yukarıda z değişkeninin sigmoid değerini öğrendik şimdi ise loss(error) / hata kayıp değerini görelim \n",
    "- Evet bu ana kadar elimizdeki pixellerin kat sayıları ile carptık ve hepsini toplayarak z değeri elde ettik ardından sigmoid hesaplaması yaptık , Bizim iki tane olasılığımız vardı 0 veya 1 yani burdaki sigmoitimizin karar noktası 0.5 idi , varsayalımki bize 0.9 değeri döndü biz bunun doğru cevap olduğunu nasıl anllayacağız , daha doğrusu makine nasıl anlayacak ve geriye dönme işlemi yapacak  ?\n",
    "- işte bu matematiksel formul ile bize hata payı verecek eğer doğru tahmin ettiysek hatamız sıfır gelecektir.\n",
    "- Her görüntü bize kayıp değeri verir ve biz bunları toplayarak geriye dönme işlemini en optimum katsayıları buluncaya kadar türev(egim bulma) işlemini devam ettiririz"
   ]
  },
  {
   "cell_type": "markdown",
   "metadata": {},
   "source": [
    "### İleri yayılımı uygulayalım "
   ]
  },
  {
   "cell_type": "markdown",
   "metadata": {},
   "source": [
    "##### İleri yayılım adımları \n",
    "1.  z  = w.T*x + b\n",
    "2. y_head = sigmoid(z)\n",
    "3. Loss(error) = Loss(y , y_head)\n",
    "4. cost = sum(Loss)"
   ]
  },
  {
   "cell_type": "code",
   "execution_count": 16,
   "metadata": {},
   "outputs": [],
   "source": [
    "def forward_propagation( w ,b ,x_train ,y_train ):\n",
    "    z = np.dot(w.T ,x_train) + b\n",
    "    y_head = sigmoid(z)\n",
    "    loss = -y_train*np.log( y_head ) - (1 -y_train)*np.log( 1-y_head )\n",
    "    cost = (np.sum( loss ))/ x_train.shape[1] #olcekleştirmek için bolme işlemi yaptık\n",
    "    \n",
    "    return cost"
   ]
  },
  {
   "cell_type": "markdown",
   "metadata": {},
   "source": [
    "  "
   ]
  },
  {
   "cell_type": "code",
   "execution_count": null,
   "metadata": {},
   "outputs": [],
   "source": [
    "  "
   ]
  },
  {
   "cell_type": "markdown",
   "metadata": {},
   "source": [
    "## Optimization Algorithm with Gradient  Descent"
   ]
  },
  {
   "cell_type": "markdown",
   "metadata": {},
   "source": [
    "- Evet bu adıma kadar hatamızın ne olduğunu öğrendiğimize göre , hatamızı en optimum seviyeye cekmemiz gerekir.\n",
    "- Hata oranımızı dürürebilmek için geriye yayılım yapıp katsayıları değiştirmemiz gerekir.\n",
    "- Başka bir deyişle, modelimizin hata işlevini en aza indiren ağırlık ve sapma parametrelerini öğrenmesi gerekir. Bu tekniğe gradyanlı iniş denir."
   ]
  },
  {
   "cell_type": "markdown",
   "metadata": {},
   "source": [
    "<a href=\"http://imgbb.com/\"><img src=\"http://image.ibb.co/dAaYJH/7.jpg\" alt=\"7\" border=\"0\"></a>\n"
   ]
  },
  {
   "cell_type": "markdown",
   "metadata": {},
   "source": [
    "- Grafikten de görebileceğiniz gibi, minimum hata noktasında değiliz. Bu nedenle minimum maliyetten geçmemiz gerekiyor. Tamam, ağırlığı güncelleyelim. \n",
    "- En optimum noktatı bulana kadar geriye yayılım yapmaya devam ederiz.\n",
    "- Peki ya en optimum noktayı geçip hatamızı tekrardan arttırabilirmiyiz , egimden ve yonden dolayı endişeye kapılmaya gerek yoktur ,(türev)eğimin  hem adım hem de adım yönünü vermesidir."
   ]
  },
  {
   "cell_type": "markdown",
   "metadata": {},
   "source": [
    "- Geriye yayılımlı güncelleme denklemi budur :\n",
    "\n",
    "    <a href=\"http://imgbb.com/\"><img src=\"http://image.ibb.co/hYTTJH/8.jpg\" alt=\"8\" border=\"0\"></a>\n",
    "\n",
    "- Ağırlık ve yanlılığa göre maliyet fonksiyonunun türevini alır. Daha sonra α(öğrenme hızı) öğrenme oranı ile çarpar. Sonra ağırlığı günceller\n",
    "- Öğrenme hızına, seçilmesi ve ayarlanması gereken hiperparametre de denir.\n",
    "$$ \\frac{\\partial J}{\\partial w} = \\frac{1}{m}x(  y_head - y)^T$$\n",
    "$$ \\frac{\\partial J}{\\partial b} = \\frac{1}{m} \\sum_{i=1}^m (y_head-y)$$\n"
   ]
  },
  {
   "cell_type": "code",
   "execution_count": null,
   "metadata": {},
   "outputs": [],
   "source": []
  },
  {
   "cell_type": "code",
   "execution_count": null,
   "metadata": {},
   "outputs": [],
   "source": []
  },
  {
   "cell_type": "markdown",
   "metadata": {},
   "source": [
    "## Backward propagation (Geriye Yayılım)"
   ]
  },
  {
   "cell_type": "code",
   "execution_count": 17,
   "metadata": {},
   "outputs": [],
   "source": [
    "def sigmoid(z):\n",
    "    y_head = 1/(1 + np.exp(-z))\n",
    "    return y_head\n"
   ]
  },
  {
   "cell_type": "code",
   "execution_count": 18,
   "metadata": {},
   "outputs": [],
   "source": [
    "def forward_backward_propagation( w ,b ,x_train ,y_train ):\n",
    "    #forward Propagation\n",
    "    z = np.dot( w.T,x_train ) +  b\n",
    "    y_head = sigmoid(z)\n",
    "    \n",
    "    loss = -y_train*np.log( y_head )- (1-y_train)*np.log(1-y_head)\n",
    "    cost = (np.sum(loss)) / x_train.shape[1]\n",
    "    \n",
    "    #backward Propagation\n",
    "    derivative_weight = (np.dot(x_train,((y_head-y_train).T)))/x_train.shape[1]  # x_train.shape[1] ile ölceklendirme yaptık\n",
    "    derivative_bias = np.sum( y_head - y_train ) / x_train.shape[1]  # x_train.shape[1] ile ölceklendirme yaptık\n",
    "    \n",
    "    gradients = {\n",
    "        \"derivative_weight\" : derivative_weight ,\n",
    "        \"derivative_bias\" : derivative_bias}\n",
    "    \n",
    "    return cost , gradients"
   ]
  },
  {
   "cell_type": "markdown",
   "metadata": {},
   "source": [
    "## Update(learning) Parameters (Öğrenme parametrelerinin güncellenmesi)"
   ]
  },
  {
   "cell_type": "code",
   "execution_count": 19,
   "metadata": {},
   "outputs": [],
   "source": [
    "def update( w,b ,x_train ,y_train ,learning_rate ,number_of_iteration ):\n",
    "    # learning_rate = ogrenme hızı\n",
    "    # number_of_iteration = ogrenme sayısı\n",
    "    cost_list = [] \n",
    "    cost_list2 = []\n",
    "    index = []\n",
    "    \n",
    "    for i in range( number_of_iteration ):\n",
    "        cost ,gradients = forward_backward_propagation( w,b ,x_train,y_train )\n",
    "        cost_list.append(cost) # güncelleme öncesi cost değerlerimizi tutuyoruz\n",
    "        \n",
    "        w = w -learning_rate *gradients[\"derivative_weight\"] \n",
    "        b = b -learning_rate *gradients[\"derivative_bias\"]\n",
    "        \n",
    "        if i % 10 == 0 : # bunu tamamen ekranda görüntülemek için yapıyoruz \n",
    "            cost_list2.append(cost)\n",
    "            index.append(i)\n",
    "            print(\"Güncelleme sonrası hata oranı %i : %f\" %(i ,cost) )\n",
    "\n",
    "            \n",
    "    # en optimum parametrelerimizi sözlük içierisine atıyoruz\n",
    "    parameters = { \"weight\" :w  ,\"bias\" :b}\n",
    "        \n",
    "    plt.plot(index ,cost_list2)\n",
    "    plt.xticks(index,rotation='vertical')\n",
    "    plt.xlabel( \"Ogrenme sayısı\" )\n",
    "    plt.ylabel( \"Cost : hata oranı\" )\n",
    "    plt.show()\n",
    "        \n",
    "    return parameters ,gradients ,cost_list\n",
    "    \n",
    "    \n",
    "        \n",
    "        \n",
    "        \n",
    "        \n",
    "    "
   ]
  },
  {
   "cell_type": "markdown",
   "metadata": {},
   "source": [
    "- Artık elemizde tahmin etmek için katsayı değerlerimiz mevcut , Tahmin işlemine geçelim "
   ]
  },
  {
   "cell_type": "markdown",
   "metadata": {},
   "source": [
    "## Predict ( Tahmin)"
   ]
  },
  {
   "cell_type": "code",
   "execution_count": 30,
   "metadata": {},
   "outputs": [],
   "source": [
    "def predict( w ,b ,x_test ):\n",
    "    # x_test ileriye yayılım için girilmiştir ve bunun üzerinden tahmin yapılacaktır\n",
    "    z = sigmoid(np.dot(w.T,x_test)+b)\n",
    "    Y_prediction = np.zeros((1,x_test.shape[1])) #elimizle tahmin matriksi oluşturuyoruz kodun çalışma performansı için\n",
    "    # z değeri 0,5'ten büyükse tahminimiz bir işarettir\n",
    "    # z değeri 0,5'ten küçükse tahminimiz sıfır işaretidir\n",
    "    \n",
    "    for i in range(z.shape[1]):\n",
    "        if z[0 ,i] <= 0.5:\n",
    "            Y_prediction[0 ,i] = 0\n",
    "            \n",
    "        else:\n",
    "            Y_prediction[0 ,i] = 1\n",
    "    \n",
    "    \n",
    "    return Y_prediction\n",
    "# predict(parameters[\"weight\"],parameters[\"bias\"],x_test)"
   ]
  },
  {
   "cell_type": "code",
   "execution_count": null,
   "metadata": {},
   "outputs": [],
   "source": []
  },
  {
   "cell_type": "markdown",
   "metadata": {},
   "source": [
    "##  Şimdi Logistic Regression çatısı altınde hepsini bir araya getirelim"
   ]
  },
  {
   "cell_type": "code",
   "execution_count": 31,
   "metadata": {},
   "outputs": [
    {
     "name": "stdout",
     "output_type": "stream",
     "text": [
      "Güncelleme sonrası hata oranı 0 : 14.014222\n",
      "Güncelleme sonrası hata oranı 10 : 2.544689\n",
      "Güncelleme sonrası hata oranı 20 : 2.577950\n",
      "Güncelleme sonrası hata oranı 30 : 2.397999\n",
      "Güncelleme sonrası hata oranı 40 : 2.185019\n",
      "Güncelleme sonrası hata oranı 50 : 1.968348\n",
      "Güncelleme sonrası hata oranı 60 : 1.754195\n",
      "Güncelleme sonrası hata oranı 70 : 1.535079\n",
      "Güncelleme sonrası hata oranı 80 : 1.297567\n",
      "Güncelleme sonrası hata oranı 90 : 1.031919\n",
      "Güncelleme sonrası hata oranı 100 : 0.737019\n",
      "Güncelleme sonrası hata oranı 110 : 0.441355\n",
      "Güncelleme sonrası hata oranı 120 : 0.252278\n",
      "Güncelleme sonrası hata oranı 130 : 0.205168\n",
      "Güncelleme sonrası hata oranı 140 : 0.196168\n"
     ]
    },
    {
     "data": {
      "image/png": "[encoded data removed]",
      "text/plain": [
       "<Figure size 432x288 with 1 Axes>"
      ]
     },
     "metadata": {
      "needs_background": "light"
     },
     "output_type": "display_data"
    },
    {
     "name": "stdout",
     "output_type": "stream",
     "text": [
      "train accuracy: 92.816091954023 %\n",
      "test accuracy: 93.54838709677419 %\n"
     ]
    }
   ],
   "source": [
    "def logistic_regression( x_train ,y_train ,x_test ,y_test ,learning_rate ,num_iterations ):\n",
    "    dimension = x_train.shape[0] # 4096 boyutunda\n",
    "    w,b = initialize_weights_and_bias( dimension )\n",
    "    \n",
    "    parameters , gradients ,cost_list = update( w,b ,x_train ,y_train ,learning_rate ,num_iterations )\n",
    "    \n",
    "    y_prediction_test = predict(parameters[\"weight\"],parameters[\"bias\"],x_test)\n",
    "    y_prediction_train = predict(parameters[\"weight\"],parameters[\"bias\"],x_train)\n",
    "    \n",
    "    print(\"train accuracy: {} %\".format(100 - np.mean(np.abs(y_prediction_train - y_train)) * 100))\n",
    "    print(\"test accuracy: {} %\".format(100 - np.mean(np.abs(y_prediction_test - y_test)) * 100))\n",
    "    \n",
    "logistic_regression( x_train ,y_train ,x_test ,y_test ,learning_rate = 0.01 ,num_iterations = 150 )"
   ]
  },
  {
   "cell_type": "code",
   "execution_count": 32,
   "metadata": {},
   "outputs": [
    {
     "name": "stdout",
     "output_type": "stream",
     "text": [
      "test accuracy: 0.967741935483871 \n",
      "train accuracy: 1.0 \n"
     ]
    }
   ],
   "source": [
    "from sklearn import linear_model\n",
    "logreg = linear_model.LogisticRegression(random_state = 42,max_iter= 150)\n",
    "print(\"test accuracy: {} \".format(logreg.fit(x_train.T, y_train.T).score(x_test.T, y_test.T)))\n",
    "print(\"train accuracy: {} \".format(logreg.fit(x_train.T, y_train.T).score(x_train.T, y_train.T)))"
   ]
  },
  {
   "cell_type": "code",
   "execution_count": null,
   "metadata": {},
   "outputs": [],
   "source": []
  }
 ],
 "metadata": {
  "kernelspec": {
   "display_name": "Python 3",
   "language": "python",
   "name": "python3"
  },
  "language_info": {
   "codemirror_mode": {
    "name": "ipython",
    "version": 3
   },
   "file_extension": ".py",
   "mimetype": "text/x-python",
   "name": "python",
   "nbconvert_exporter": "python",
   "pygments_lexer": "ipython3",
   "version": "3.7.6"
  }
 },
 "nbformat": 4,
 "nbformat_minor": 4
}
