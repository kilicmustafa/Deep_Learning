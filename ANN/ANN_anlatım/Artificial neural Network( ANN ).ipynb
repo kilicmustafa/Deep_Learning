{
 "cells": [
  {
   "cell_type": "code",
   "execution_count": 1,
   "metadata": {},
   "outputs": [],
   "source": [
    "import pandas as pd\n",
    "import numpy as np\n",
    "import matplotlib.pyplot as plt\n",
    "\n",
    "import warnings\n",
    "warnings.filterwarnings(\"ignore\")\n"
   ]
  },
  {
   "cell_type": "code",
   "execution_count": 8,
   "metadata": {},
   "outputs": [],
   "source": [
    "x_l = np.load( \"X.npy\" )\n",
    "Y_l = np.load( \"y.npy\" )\n",
    "\n",
    "\n"
   ]
  },
  {
   "cell_type": "code",
   "execution_count": 9,
   "metadata": {},
   "outputs": [
    {
     "data": {
      "text/plain": [
       "(-0.5, 63.5, 63.5, -0.5)"
      ]
     },
     "execution_count": 9,
     "metadata": {},
     "output_type": "execute_result"
    },
    {
     "data": {
      "image/png": "[encoded data removed]",
      "text/plain": [
       "<Figure size 432x288 with 2 Axes>"
      ]
     },
     "metadata": {
      "needs_background": "light"
     },
     "output_type": "display_data"
    }
   ],
   "source": [
    "img_size = 64\n",
    "plt.subplot( 1 ,2 ,1 )\n",
    "plt.imshow( x_l[260].reshape( img_size , img_size ) )\n",
    "plt.axis( \"off\" )\n",
    "plt.subplot( 1 ,2 ,2 )\n",
    "plt.imshow( x_l[900].reshape( img_size , img_size ) ) \n",
    "plt.axis( \"off\" )"
   ]
  },
  {
   "cell_type": "code",
   "execution_count": 10,
   "metadata": {},
   "outputs": [
    {
     "data": {
      "text/plain": [
       "(2062, 64, 64)"
      ]
     },
     "execution_count": 10,
     "metadata": {},
     "output_type": "execute_result"
    }
   ],
   "source": [
    "x_l.shape"
   ]
  },
  {
   "cell_type": "code",
   "execution_count": 11,
   "metadata": {},
   "outputs": [
    {
     "data": {
      "text/plain": [
       "(2062, 10)"
      ]
     },
     "execution_count": 11,
     "metadata": {},
     "output_type": "execute_result"
    }
   ],
   "source": [
    "Y_l.shape"
   ]
  },
  {
   "cell_type": "markdown",
   "metadata": {},
   "source": [
    "- veri seti içerisin 0 dan 204'e kadar sıfır işareti , 822'den 1027'a kadarda bir işareti bulunmaktadır\n",
    "- şimdi bunları ayrıştıralım "
   ]
  },
  {
   "cell_type": "code",
   "execution_count": 12,
   "metadata": {},
   "outputs": [
    {
     "name": "stdout",
     "output_type": "stream",
     "text": [
      "X shape  (410, 64, 64)\n",
      "Y shape (410, 1)\n"
     ]
    }
   ],
   "source": [
    "X = np.concatenate( (x_l[204 : 409] , x_l[822 : 1027]) ,axis = 0 )\n",
    "z = np.zeros( 205 )# 205 tane 0\n",
    "o = np.ones( 205 ) # 205 tane 1\n",
    "Y = np.concatenate( (z ,o) ,axis = 0 ).reshape( X.shape[0] ,1 ) \n",
    "# y değerimiz X değerlerimizin karşılığıdır \n",
    "\n",
    "print( \"X shape \" ,X.shape )\n",
    "print( \"Y shape\"  ,Y.shape )\n"
   ]
  },
  {
   "cell_type": "markdown",
   "metadata": {},
   "source": [
    " "
   ]
  },
  {
   "cell_type": "markdown",
   "metadata": {},
   "source": [
    " \n",
    " "
   ]
  },
  {
   "cell_type": "markdown",
   "metadata": {},
   "source": [
    "### Veri setini Train - Test olarak ayırma "
   ]
  },
  {
   "cell_type": "code",
   "execution_count": 13,
   "metadata": {},
   "outputs": [],
   "source": [
    "from sklearn.model_selection import train_test_split\n",
    "X_train , X_test ,y_train ,y_test  = train_test_split( X ,Y , test_size = .15 ,random_state =  42 )"
   ]
  },
  {
   "cell_type": "code",
   "execution_count": 14,
   "metadata": {},
   "outputs": [
    {
     "data": {
      "text/plain": [
       "348"
      ]
     },
     "execution_count": 14,
     "metadata": {},
     "output_type": "execute_result"
    }
   ],
   "source": [
    "X_train.shape[0]"
   ]
  },
  {
   "cell_type": "code",
   "execution_count": 15,
   "metadata": {},
   "outputs": [
    {
     "data": {
      "text/plain": [
       "62"
      ]
     },
     "execution_count": 15,
     "metadata": {},
     "output_type": "execute_result"
    }
   ],
   "source": [
    "X_test.shape[0]"
   ]
  },
  {
   "cell_type": "code",
   "execution_count": 16,
   "metadata": {},
   "outputs": [],
   "source": [
    "number_of_train = X_train.shape[0]\n",
    "number_of_test = X_test.shape[0]"
   ]
  },
  {
   "cell_type": "code",
   "execution_count": null,
   "metadata": {},
   "outputs": [],
   "source": []
  },
  {
   "cell_type": "markdown",
   "metadata": {},
   "source": [
    "### Train - ve test setindeki 3 boyuıtlu matrixi iki boyuta indirgeme "
   ]
  },
  {
   "cell_type": "code",
   "execution_count": 18,
   "metadata": {},
   "outputs": [
    {
     "name": "stdout",
     "output_type": "stream",
     "text": [
      "(348, 4096)\n",
      "(62, 4096)\n"
     ]
    }
   ],
   "source": [
    "X_train_flatten = X_train.reshape( number_of_train ,X_train.shape[1]  * X_train.shape[2] )\n",
    "X_test_flatten  = X_test.reshape( number_of_test ,X_test.shape[1] * X_test.shape[2] )\n",
    "print( X_train_flatten.shape )\n",
    "print( X_test_flatten.shape )"
   ]
  },
  {
   "cell_type": "markdown",
   "metadata": {},
   "source": [
    "<a href=\"http://ibb.co/bWMK7c\"><img src=\"http://image.ibb.co/fOqCSc/3.png\" alt=\"3\" border=\"0\"></a>"
   ]
  },
  {
   "cell_type": "markdown",
   "metadata": {},
   "source": [
    "### Matrix hesaplamalarının yapılabilmesi için Transpoz alma işlemi"
   ]
  },
  {
   "cell_type": "code",
   "execution_count": 19,
   "metadata": {},
   "outputs": [
    {
     "name": "stdout",
     "output_type": "stream",
     "text": [
      "X train  (4096, 348)\n",
      "x test (4096, 62)\n",
      "y_train (1, 348)\n",
      "y_test (1, 62)\n"
     ]
    }
   ],
   "source": [
    "x_train = X_train_flatten.T\n",
    "x_test = X_test_flatten.T\n",
    "y_train = y_train.T\n",
    "y_test = y_test.T\n",
    "\n",
    "print( \"X train \" ,x_train.shape )\n",
    "print( \"x test\" ,x_test.shape )\n",
    "print( \"y_train\" ,y_train.shape )\n",
    "print( \"y_test\"  ,y_test.shape)"
   ]
  },
  {
   "cell_type": "code",
   "execution_count": null,
   "metadata": {},
   "outputs": [],
   "source": []
  },
  {
   "cell_type": "markdown",
   "metadata": {},
   "source": [
    "# Artificial neural Network( ANN )"
   ]
  },
  {
   "cell_type": "markdown",
   "metadata": {},
   "source": [
    "- Yapay sinir agı nedir ? \n",
    "    * Temelini logistic regresyon'dan alır ve bunu en az 2 kez tekrarlar\n",
    "- Logistit regresyon da giriş ve çıkış katmanları bulunurken , ANN ' de bu katmanlar arasında en az 1 gizli katman bulunur.\n",
    "- Neden bu katmanın ismi Gizli Katmandır ?\n",
    "    * Gizli katman girdileri görmediği için bu ismi almıştır.\n",
    "- İki katmanlı agımıza bakalım ;\n",
    "<a href=\"http://ibb.co/eF315x\"><img src=\"http://preview.ibb.co/dajVyH/9.jpg\" alt=\"9\" border=\"0\"></a>\n",
    "\n",
    "- Gördüğümüz gibi giriş ve çıkış katmanının arasında 1 adaet hidden layer(gizli katman) bulunmakta ve 3 adet nodes(düğüm , öğrenme çeşitliliği) bulunmakta \n",
    "- ANN ' un nodes , learning_rate gibi bazı hiperparametreleri vardır.\n",
    "- Resimde de gördüğümüz gibi Logistic fonksiyondan farklı olarak gizli katman vardır bunu geçelim birde bu gizli fonksiyonu sigmoid fonksiyondan daha iyi temsil etmek için tanh aktivasyon fonksiyonu kullanılmıştır, bunun yerine relu gibi fonksiyonlarda kullanabilirdik. Modelli öğrenme ve öğrenme hızını etkileyen faktordur \n",
    "- Tanh gizli katman cıktılarının sıfıra yakın olmasını saglayarak öğrenme hızımızı ve ogrenme oranımızı optimize eder.\n"
   ]
  },
  {
   "cell_type": "markdown",
   "metadata": {},
   "source": [
    " "
   ]
  },
  {
   "cell_type": "markdown",
   "metadata": {},
   "source": [
    "### 2- Layer Neural Network (2 katmanlı ağ):\n",
    "   - Size of layers and initializing parameters weights and bias\n",
    "   - Forward propagation\n",
    "   - Loss function and Cost Function\n",
    "   - Bacward Propagation\n",
    "   - Update Parameters\n",
    "   - Prediction with learnt parameters weight and bias \n",
    "   - Create model\n",
    "    "
   ]
  },
  {
   "cell_type": "markdown",
   "metadata": {},
   "source": [
    "<br>\n",
    "<br>\n",
    "\n",
    "##  Size of layers and initializing parameters weights and bias \n"
   ]
  },
  {
   "cell_type": "markdown",
   "metadata": {},
   "source": [
    "- Logistic regressionda yaptıgımız weight ,bias değerlerini burdada sıfırda başlatmayacağız evt burası güzel ve burada gizli katman daki her bir nodes'in başlangiçta aynı şeyi öğrenmesini önlemek için her pixeli çarptıgımız weight katsayılarını birbirinden farklı tutacağız bu şekilde öğrenmeyi ilk adımda doğru olarak başklatmış olacagız ayrıca bu değerleri sıfıra yakın seçeceğiz çünkü tanh değere büyük seçildiği taktirde 0 ' a cok yakın olur ve biz veri setini çok geç öğreiriz\n",
    "- Bias değri 0'dan başlayabilir \n",
    "- devamke :)"
   ]
  },
  {
   "cell_type": "code",
   "execution_count": 25,
   "metadata": {},
   "outputs": [
    {
     "data": {
      "text/plain": [
       "64"
      ]
     },
     "execution_count": 25,
     "metadata": {},
     "output_type": "execute_result"
    }
   ],
   "source": [
    "X_train.shape[1]"
   ]
  },
  {
   "cell_type": "code",
   "execution_count": 24,
   "metadata": {
    "collapsed": true,
    "jupyter": {
     "outputs_hidden": true
    }
   },
   "outputs": [
    {
     "data": {
      "text/plain": [
       "array([[-1.06362763e-02,  5.24142459e-02, -1.52587373e+00,\n",
       "        -4.18861691e-01,  2.35788598e+00, -5.44640203e-01,\n",
       "        -1.39009798e+00,  1.30193241e+00,  9.70087357e-01,\n",
       "        -2.77471353e+00, -2.17151149e+00,  1.95741994e-01,\n",
       "        -1.22729642e-01, -5.21051549e-01, -4.33553197e-01,\n",
       "        -1.21039103e-01, -9.07687581e-01, -6.20461804e-01,\n",
       "        -4.78121454e-01, -2.73128288e-01, -1.48711949e-01,\n",
       "         1.08350392e+00,  4.62531812e-01, -1.80748554e-01,\n",
       "         5.18241971e-01,  4.31165593e-01,  3.24341546e-01,\n",
       "        -3.75888943e-01, -1.20686319e+00, -6.79183861e-01,\n",
       "        -5.63287745e-01, -1.24931919e+00, -6.38560056e-01,\n",
       "        -5.87486210e-01,  2.47757036e-01,  6.81574364e-01,\n",
       "        -1.89033735e-01,  7.55547776e-01,  1.71828212e+00,\n",
       "         1.72557449e+00, -1.27967065e+00, -8.55536109e-01,\n",
       "        -1.06682830e+00, -1.83713145e-01, -8.04161331e-01,\n",
       "        -8.23839800e-01,  5.89152297e-01, -7.28726986e-01,\n",
       "        -2.73366157e-01, -3.04262726e-02, -5.63057952e-01,\n",
       "         8.01986098e-02,  1.20486144e+00, -5.07300922e-01,\n",
       "         4.85615741e-01,  5.91675699e-01, -2.48007419e-01,\n",
       "        -1.73405875e+00,  4.36830665e-01, -8.47672697e-02,\n",
       "        -1.30076698e+00, -1.06957512e+00,  1.08575955e+00,\n",
       "         2.87593037e-01],\n",
       "       [ 2.35839647e-01, -4.16559289e-01,  1.08193865e-01,\n",
       "         2.48214036e+00, -4.68848848e-01, -1.20774680e+00,\n",
       "         3.66688980e-01,  4.14524087e-01, -1.57465008e+00,\n",
       "        -1.48016888e+00, -4.90858967e-01, -2.49652707e-01,\n",
       "        -6.69060355e-01, -4.32223559e-01,  6.41037493e-01,\n",
       "         8.46759379e-02,  1.22037075e+00, -1.74443018e+00,\n",
       "        -4.78423988e-01, -1.23464642e+00,  3.48096553e-01,\n",
       "         1.64339542e-01, -1.24377610e+00, -2.44393243e+00,\n",
       "        -1.85055990e+00, -1.11855224e+00, -5.25983346e-02,\n",
       "         1.36949534e+00, -3.86004097e-02,  2.00424641e-01,\n",
       "         2.29969870e-02, -2.10028350e-01, -1.32455043e+00,\n",
       "        -1.28213309e+00, -1.69323302e+00, -5.93320597e-01,\n",
       "        -1.35866336e+00,  1.92213367e-01,  5.34800731e-01,\n",
       "         1.06668634e+00, -3.45685333e+00,  4.69603985e-01,\n",
       "        -7.13124864e-01,  7.62410645e-01,  1.19027057e+00,\n",
       "        -8.51470769e-01,  5.92614623e-01, -7.48782563e-01,\n",
       "         5.07434042e-01,  1.13879612e+00, -2.43183345e+00,\n",
       "         7.59788490e-01, -1.29711417e+00, -3.63751824e-02,\n",
       "        -1.27715439e-01, -7.78199358e-01, -2.42969052e-02,\n",
       "        -1.60471972e+00,  1.38945075e+00,  1.67571536e-01,\n",
       "        -1.52216855e+00,  7.11343844e-01, -2.83410601e-02,\n",
       "        -9.74180479e-02],\n",
       "       [ 4.80451864e-01, -1.62119669e+00, -1.68832807e+00,\n",
       "         2.29187861e+00,  5.13071690e-01,  6.70652798e-01,\n",
       "        -8.09330038e-01,  7.50224762e-01,  8.99525845e-02,\n",
       "        -3.23603233e-01, -3.43221118e-01, -1.16502726e+00,\n",
       "        -1.67965869e+00, -7.43549832e-01,  7.25302890e-01,\n",
       "        -8.33542019e-01, -9.83637878e-01, -2.93085353e+00,\n",
       "         1.16681070e+00,  1.85897249e-01,  6.19116354e-01,\n",
       "        -9.89479794e-01,  1.17431951e+00,  2.77586689e-01,\n",
       "        -6.10298824e-01, -4.06757694e-01,  2.33479809e+00,\n",
       "         2.22260535e+00,  2.77163261e-01, -3.14239389e-01,\n",
       "        -1.59539147e-01, -5.07975556e-01, -1.81584935e+00,\n",
       "         1.56376052e+00, -5.74398525e-01,  1.10818319e+00,\n",
       "        -7.13827569e-02, -1.24885741e+00, -3.14742507e-01,\n",
       "         1.64632811e-01,  5.79120098e-01, -1.32463748e-01,\n",
       "        -1.37962461e+00, -2.17147087e-03, -1.22510485e+00,\n",
       "        -9.64728770e-01, -2.35579066e-01,  4.93642767e-01,\n",
       "         2.32495976e-02,  1.07472266e+00, -6.66797172e-01,\n",
       "        -9.44611778e-01,  4.58455746e-01,  1.18169852e+00,\n",
       "        -7.25072254e-01,  2.48274305e-01,  4.30721793e-01,\n",
       "        -1.15499517e+00,  9.59435493e-01,  1.25360967e+00,\n",
       "        -6.71664352e-01,  7.80703679e-01,  4.29611991e-01,\n",
       "         1.80095340e-01]])"
      ]
     },
     "execution_count": 24,
     "metadata": {},
     "output_type": "execute_result"
    }
   ],
   "source": [
    "np.random.randn( 3 ,X_train.shape[1] )"
   ]
  },
  {
   "cell_type": "code",
   "execution_count": 26,
   "metadata": {},
   "outputs": [
    {
     "data": {
      "text/plain": [
       "1"
      ]
     },
     "execution_count": 26,
     "metadata": {},
     "output_type": "execute_result"
    }
   ],
   "source": [
    "y_train.shape[0]"
   ]
  },
  {
   "cell_type": "code",
   "execution_count": 68,
   "metadata": {},
   "outputs": [],
   "source": [
    "def initialize_parameters_and_layer_sizes_NN(x_train, y_train):\n",
    "    # buradaki 3 sayısı bizim belirlediğimiz node sayısıdır.\n",
    "    parameters = {\"weight1\": np.random.randn(3,x_train.shape[0]) * 0.1,#3e 64luk matrix tanımlar ve biz bunu 0.1 ile ölceklendiririz \n",
    "                  \"bias1\": np.zeros((3,1)),\n",
    "                  \"weight2\": np.random.randn(y_train.shape[0],3) * 0.1,# output alabilmek için 1e 3lük\n",
    "                  \"bias2\": np.zeros((y_train.shape[0],1))}\n",
    "    return parameters"
   ]
  },
  {
   "cell_type": "markdown",
   "metadata": {},
   "source": [
    "<br>\n",
    "<br> \n",
    "\n",
    "## Forward propagation\n",
    "    - İleri yayılımı Logistic regression ile hemen hemen aynıdır\n",
    "    - Tek farki tanh gibi aktivasyon fonksiyonu kullanmamız ve işlemleri ik kez yapmamız\n",
    "    "
   ]
  },
  {
   "cell_type": "code",
   "execution_count": 69,
   "metadata": {},
   "outputs": [],
   "source": [
    "# calculation of z\n",
    "#z = np.dot(w.T,x_train)+b\n",
    "def sigmoid(z):\n",
    "    y_head = 1/(1+np.exp(-z))\n",
    "    return y_head\n",
    "#y_head = sigmoid(z)"
   ]
  },
  {
   "cell_type": "code",
   "execution_count": 70,
   "metadata": {},
   "outputs": [],
   "source": [
    "\n",
    "def forward_propagation_NN(x_train, parameters):\n",
    "\n",
    "    Z1 = np.dot(parameters[\"weight1\"],x_train) +parameters[\"bias1\"]# ilk önce X_train data setimize katsayı uygulayacağımız için X_traini alırız\n",
    "    A1 = np.tanh(Z1)\n",
    "    Z2 = np.dot(parameters[\"weight2\"],A1) + parameters[\"bias2\"]# sonra bu katsayıları A1 değerimize uygularız \n",
    "    A2 = sigmoid(Z2)\n",
    "\n",
    "    cache = {\"Z1\": Z1,\n",
    "             \"A1\": A1,\n",
    "             \"Z2\": Z2,\n",
    "             \"A2\": A2}\n",
    "    \n",
    "    return A2, cache\n"
   ]
  },
  {
   "cell_type": "markdown",
   "metadata": {},
   "source": [
    "<br>\n",
    "<br>\n",
    "\n",
    "## Loss Function and Cost Function\n",
    "    -los fonksiyonu logistic regression da kullanıdıgımızın aynısıdır m"
   ]
  },
  {
   "cell_type": "code",
   "execution_count": 71,
   "metadata": {},
   "outputs": [],
   "source": [
    "# Cost'un hesaplanması\n",
    "\n",
    "def compute_cost_NN(A2, Y, parameters):\n",
    "    logprobs = np.multiply(np.log(A2),Y)\n",
    "    cost = -np.sum(logprobs)/Y.shape[1]\n",
    "    return cost\n",
    "\n"
   ]
  },
  {
   "cell_type": "markdown",
   "metadata": {},
   "source": [
    "<br>\n",
    "<br>\n",
    " \n",
    "## Backward Propagation\n",
    "    - Bilgiğimiz gibi geriye yayılım türev alma işlemidir."
   ]
  },
  {
   "cell_type": "code",
   "execution_count": 72,
   "metadata": {},
   "outputs": [],
   "source": [
    "\n",
    "def backward_propagation_NN(parameters, cache, X, Y):\n",
    "\n",
    "    dZ2 = cache[\"A2\"]-Y\n",
    "    dW2 = np.dot(dZ2,cache[\"A1\"].T)/X.shape[1]\n",
    "    db2 = np.sum(dZ2,axis =1,keepdims=True)/X.shape[1]\n",
    "    dZ1 = np.dot(parameters[\"weight2\"].T,dZ2)*(1 - np.power(cache[\"A1\"], 2))\n",
    "    dW1 = np.dot(dZ1,X.T)/X.shape[1]\n",
    "    db1 = np.sum(dZ1,axis =1,keepdims=True)/X.shape[1]\n",
    "    grads = {\"dweight1\": dW1,\n",
    "             \"dbias1\": db1,\n",
    "             \"dweight2\": dW2,\n",
    "             \"dbias2\": db2}\n",
    "    return grads"
   ]
  },
  {
   "cell_type": "markdown",
   "metadata": {},
   "source": [
    "<br>\n",
    "<br>\n",
    "\n",
    "## Update Parameters \n",
    "   "
   ]
  },
  {
   "cell_type": "code",
   "execution_count": 65,
   "metadata": {},
   "outputs": [],
   "source": [
    "def update_parameters_NN(parameters, grads, learning_rate = 0.01):\n",
    "    parameters = {\"weight1\": parameters[\"weight1\"]-learning_rate*grads[\"dweight1\"],\n",
    "                  \"bias1\": parameters[\"bias1\"]-learning_rate*grads[\"dbias1\"],\n",
    "                  \"weight2\": parameters[\"weight2\"]-learning_rate*grads[\"dweight2\"],\n",
    "                  \"bias2\": parameters[\"bias2\"]-learning_rate*grads[\"dbias2\"]}\n",
    "    \n",
    "    return parameters"
   ]
  },
  {
   "cell_type": "markdown",
   "metadata": {},
   "source": [
    "<br>\n",
    "<br>\n",
    "\n",
    "## Prediction with learnt parameters weight and bias"
   ]
  },
  {
   "cell_type": "code",
   "execution_count": 73,
   "metadata": {},
   "outputs": [],
   "source": [
    "def predict_NN(parameters,x_test):\n",
    "    # x_test is a input for forward propagation\n",
    "    A2, cache = forward_propagation_NN(x_test,parameters)\n",
    "    Y_prediction = np.zeros((1,x_test.shape[1]))\n",
    "    # if z is bigger than 0.5, our prediction is sign one (y_head=1),\n",
    "    # if z is smaller than 0.5, our prediction is sign zero (y_head=0),\n",
    "    for i in range(A2.shape[1]):\n",
    "        if A2[0,i]<= 0.5:\n",
    "            Y_prediction[0,i] = 0\n",
    "        else:\n",
    "            Y_prediction[0,i] = 1\n",
    "\n",
    "    return Y_prediction"
   ]
  },
  {
   "cell_type": "markdown",
   "metadata": {},
   "source": [
    "<br>\n",
    "<br>\n",
    "\n",
    "## Create Model"
   ]
  },
  {
   "cell_type": "code",
   "execution_count": 75,
   "metadata": {},
   "outputs": [
    {
     "name": "stdout",
     "output_type": "stream",
     "text": [
      "Cost after iteration 0: 0.344556\n",
      "Cost after iteration 100: 0.338902\n",
      "Cost after iteration 200: 0.313158\n",
      "Cost after iteration 300: 0.276539\n",
      "Cost after iteration 400: 0.240279\n",
      "Cost after iteration 500: 0.207921\n",
      "Cost after iteration 600: 0.179729\n",
      "Cost after iteration 700: 0.155921\n",
      "Cost after iteration 800: 0.136461\n",
      "Cost after iteration 900: 0.095239\n",
      "Cost after iteration 1000: 0.108635\n",
      "Cost after iteration 1100: 0.096942\n",
      "Cost after iteration 1200: 0.087050\n",
      "Cost after iteration 1300: 0.078651\n",
      "Cost after iteration 1400: 0.071472\n",
      "Cost after iteration 1500: 0.065364\n",
      "Cost after iteration 1600: 0.060280\n",
      "Cost after iteration 1700: 0.056054\n",
      "Cost after iteration 1800: 0.052398\n",
      "Cost after iteration 1900: 0.049175\n",
      "Cost after iteration 2000: 0.046356\n",
      "Cost after iteration 2100: 0.043901\n",
      "Cost after iteration 2200: 0.041755\n",
      "Cost after iteration 2300: 0.039867\n",
      "Cost after iteration 2400: 0.038195\n"
     ]
    },
    {
     "data": {
      "image/png": "[encoded data removed]",
      "text/plain": [
       "<Figure size 432x288 with 1 Axes>"
      ]
     },
     "metadata": {
      "needs_background": "light"
     },
     "output_type": "display_data"
    },
    {
     "name": "stdout",
     "output_type": "stream",
     "text": [
      "train accuracy: 99.71264367816092 %\n",
      "test accuracy: 95.16129032258064 %\n"
     ]
    }
   ],
   "source": [
    "# 2 - Layer neural network\n",
    "def two_layer_neural_network(x_train, y_train,x_test,y_test, num_iterations):\n",
    "    cost_list = []\n",
    "    index_list = []\n",
    "    #initialize parameters and layer sizes\n",
    "    parameters = initialize_parameters_and_layer_sizes_NN(x_train, y_train)\n",
    "\n",
    "    for i in range(0, num_iterations):\n",
    "         # forward propagation\n",
    "        A2, cache = forward_propagation_NN(x_train,parameters)\n",
    "        # compute cost\n",
    "        cost = compute_cost_NN(A2, y_train, parameters)\n",
    "         # backward propagation\n",
    "        grads = backward_propagation_NN(parameters, cache, x_train, y_train)\n",
    "         # update parameters\n",
    "        parameters = update_parameters_NN(parameters, grads)\n",
    "        \n",
    "        if i % 100 == 0:\n",
    "            cost_list.append(cost)\n",
    "            index_list.append(i)\n",
    "            print (\"Cost after iteration %i: %f\" %(i, cost))\n",
    "    plt.plot(index_list,cost_list)\n",
    "    plt.xticks(index_list,rotation='vertical')\n",
    "    plt.xlabel(\"Number of Iterarion\")\n",
    "    plt.ylabel(\"Cost\")\n",
    "    plt.show()\n",
    "    \n",
    "    # predict\n",
    "    y_prediction_test = predict_NN(parameters,x_test)\n",
    "    y_prediction_train = predict_NN(parameters,x_train)\n",
    "\n",
    "    # Print train/test Errors\n",
    "    print(\"train accuracy: {} %\".format(100 - np.mean(np.abs(y_prediction_train - y_train)) * 100))\n",
    "    print(\"test accuracy: {} %\".format(100 - np.mean(np.abs(y_prediction_test - y_test)) * 100))\n",
    "    return parameters\n",
    "parameters = two_layer_neural_network(x_train, y_train,x_test,y_test, num_iterations=2500)"
   ]
  },
  {
   "cell_type": "markdown",
   "metadata": {},
   "source": [
    "- Bu noktaya kadar 2 katmanlı sinir ağı oluştururuz ve nasıl uygulanacağını öğreniriz * Katmanların boyutu ve parametrelerin ağırlıkları ve önyargılarının başlatılması * İleri yayılma * Kayıp fonksiyonu ve Maliyet fonksiyonu * Geriye doğru yayılma * Güncelleme Parametreleri * Öğrenilen parametrelerle tahmin ağırlık ve önyargı * Oluşturma model Şimdi keras ile L tabakası sinir ağının nasıl uygulanacağını öğrenelim."
   ]
  },
  {
   "cell_type": "markdown",
   "metadata": {},
   "source": [
    "<br>\n",
    "<br>\n",
    "\n",
    "#  L layer Neural Network\n",
    "\n",
    "- Gizli katman sayısını arttırırsak ne olur ?\n",
    "    * Öncekinden daha fazla öğrenmiş oluruz ayrıntıları öğreniriz.\n",
    "    * Modelimiz basit özellikleri bir araya getirerek karmaşık yapıları öğrenebilir buna katıyı katman sayısı ve nodes saglar\n",
    "    \n",
    "    <a href=\"http://ibb.co/dNgDJH\"><img src=\"http://preview.ibb.co/mpD4Qx/10.jpg\" alt=\"10\" border=\"0\"></a>\n",
    "    *Örneğin, ilk gizli katman kenarları veya çizgi gibi temel şekilleri öğrenir. Katman sayısı arttığında, katmanlar dışbükey şekiller veya işaret parmağı gibi karakteristik özellikler gibi daha karmaşık şeyler öğrenmeye başlar.\n",
    "    "
   ]
  },
  {
   "cell_type": "code",
   "execution_count": 77,
   "metadata": {},
   "outputs": [
    {
     "ename": "SyntaxError",
     "evalue": "invalid syntax (<ipython-input-77-658cc4888047>, line 1)",
     "output_type": "error",
     "traceback": [
      "\u001b[1;36m  File \u001b[1;32m\"<ipython-input-77-658cc4888047>\"\u001b[1;36m, line \u001b[1;32m1\u001b[0m\n\u001b[1;33m    Modelimizi oluşturalamı\u001b[0m\n\u001b[1;37m                          ^\u001b[0m\n\u001b[1;31mSyntaxError\u001b[0m\u001b[1;31m:\u001b[0m invalid syntax\n"
     ]
    }
   ],
   "source": [
    "Modelimizi oluşturalım;\n",
    "    - Bu modelimizde sırasıyla 8 ve 4 düğümlü 2 gizli katman bulunacaktır. Çünkü gizli katman ve düğüm sayısı arttığında çok fazla zaman alır.\n",
    "    - Bir aktivasyon fonksiyonu olarak sırasıyla relu (birinci gizli katman), relu (ikinci gizli katman) ve sigmoid (çıkış katmanı) kullanacağız.\n",
    "    - Number of iteration 100 olacaktır"
   ]
  },
  {
   "cell_type": "markdown",
   "metadata": {},
   "source": [
    "#### Önce x_train, x_test, y_train ve y_test'imizi yeniden şekillendirelim."
   ]
  },
  {
   "cell_type": "code",
   "execution_count": 78,
   "metadata": {},
   "outputs": [],
   "source": [
    "# reshaping\n",
    "x_train, x_test, y_train, y_test = x_train.T, x_test.T, y_train.T, y_test.T"
   ]
  },
  {
   "cell_type": "markdown",
   "metadata": {},
   "source": [
    "<hr>\n",
    "<hr>\n",
    "\n",
    "# Keras Kütüphanesi ile derin öğrenme \n",
    "\n",
    "- Keras Kütüphanesinin bazı parametrelerine bakalım ;\n",
    "    * units = gizli katmandaki node boyutu\n",
    "    * kernel_initializer = agırlık başlatma parametresi\n",
    "    * activation = tanh ,relu vb\n",
    "    * input_dim = girdi boutu\n",
    "    * optimizer = adam optimizer kullanıyoruz\n",
    "        * Adam'ın bazı avantajları, nispeten düşük bellek gereksinimlerinin olması ve genellikle hiperparametrelerin az ayarlanmasıyla bile iyi çalışmasıdır.\n",
    "    * metrics = dogruluk skorlayıcı\n",
    "    * epochs = yineleme sayısı"
   ]
  },
  {
   "cell_type": "code",
   "execution_count": 83,
   "metadata": {},
   "outputs": [
    {
     "name": "stdout",
     "output_type": "stream",
     "text": [
      "Epoch 1/100\n",
      "232/232 [==============================] - 0s 673us/step - loss: 0.6927 - accuracy: 0.5431\n",
      "Epoch 2/100\n",
      "232/232 [==============================] - 0s 60us/step - loss: 0.6917 - accuracy: 0.5431\n",
      "Epoch 3/100\n",
      "232/232 [==============================] - 0s 60us/step - loss: 0.6900 - accuracy: 0.5431\n",
      "Epoch 4/100\n",
      "232/232 [==============================] - 0s 56us/step - loss: 0.6884 - accuracy: 0.5431\n",
      "Epoch 5/100\n",
      "232/232 [==============================] - 0s 52us/step - loss: 0.6868 - accuracy: 0.5431\n",
      "Epoch 6/100\n",
      "232/232 [==============================] - 0s 60us/step - loss: 0.6859 - accuracy: 0.5431\n",
      "Epoch 7/100\n",
      "232/232 [==============================] - 0s 73us/step - loss: 0.6839 - accuracy: 0.5431\n",
      "Epoch 8/100\n",
      "232/232 [==============================] - 0s 65us/step - loss: 0.6838 - accuracy: 0.5431\n",
      "Epoch 9/100\n",
      "232/232 [==============================] - 0s 69us/step - loss: 0.6818 - accuracy: 0.5431\n",
      "Epoch 10/100\n",
      "232/232 [==============================] - 0s 69us/step - loss: 0.6797 - accuracy: 0.5431\n",
      "Epoch 11/100\n",
      "232/232 [==============================] - 0s 73us/step - loss: 0.6769 - accuracy: 0.5431\n",
      "Epoch 12/100\n",
      "232/232 [==============================] - 0s 69us/step - loss: 0.6736 - accuracy: 0.5431\n",
      "Epoch 13/100\n",
      "232/232 [==============================] - 0s 69us/step - loss: 0.6691 - accuracy: 0.5431\n",
      "Epoch 14/100\n",
      "232/232 [==============================] - 0s 65us/step - loss: 0.6645 - accuracy: 0.5431\n",
      "Epoch 15/100\n",
      "232/232 [==============================] - 0s 69us/step - loss: 0.6556 - accuracy: 0.5431\n",
      "Epoch 16/100\n",
      "232/232 [==============================] - 0s 69us/step - loss: 0.6465 - accuracy: 0.5431\n",
      "Epoch 17/100\n",
      "232/232 [==============================] - 0s 69us/step - loss: 0.6348 - accuracy: 0.5431\n",
      "Epoch 18/100\n",
      "232/232 [==============================] - 0s 65us/step - loss: 0.6230 - accuracy: 0.5431\n",
      "Epoch 19/100\n",
      "232/232 [==============================] - 0s 60us/step - loss: 0.6085 - accuracy: 0.5991\n",
      "Epoch 20/100\n",
      "232/232 [==============================] - 0s 56us/step - loss: 0.5914 - accuracy: 0.6853\n",
      "Epoch 21/100\n",
      "232/232 [==============================] - 0s 56us/step - loss: 0.5749 - accuracy: 0.6638\n",
      "Epoch 22/100\n",
      "232/232 [==============================] - 0s 60us/step - loss: 0.5587 - accuracy: 0.7672\n",
      "Epoch 23/100\n",
      "232/232 [==============================] - 0s 56us/step - loss: 0.5410 - accuracy: 0.7026\n",
      "Epoch 24/100\n",
      "232/232 [==============================] - 0s 65us/step - loss: 0.5254 - accuracy: 0.7371\n",
      "Epoch 25/100\n",
      "232/232 [==============================] - 0s 56us/step - loss: 0.5095 - accuracy: 0.7543\n",
      "Epoch 26/100\n",
      "232/232 [==============================] - 0s 65us/step - loss: 0.4936 - accuracy: 0.8233\n",
      "Epoch 27/100\n",
      "232/232 [==============================] - 0s 65us/step - loss: 0.4831 - accuracy: 0.7845\n",
      "Epoch 28/100\n",
      "232/232 [==============================] - 0s 56us/step - loss: 0.4688 - accuracy: 0.8750\n",
      "Epoch 29/100\n",
      "232/232 [==============================] - 0s 65us/step - loss: 0.4608 - accuracy: 0.8103\n",
      "Epoch 30/100\n",
      "232/232 [==============================] - 0s 69us/step - loss: 0.4495 - accuracy: 0.8707\n",
      "Epoch 31/100\n",
      "232/232 [==============================] - 0s 65us/step - loss: 0.4321 - accuracy: 0.8793\n",
      "Epoch 32/100\n",
      "232/232 [==============================] - 0s 65us/step - loss: 0.4200 - accuracy: 0.9138\n",
      "Epoch 33/100\n",
      "232/232 [==============================] - 0s 65us/step - loss: 0.4184 - accuracy: 0.8578\n",
      "Epoch 34/100\n",
      "232/232 [==============================] - 0s 69us/step - loss: 0.4052 - accuracy: 0.9052\n",
      "Epoch 35/100\n",
      "232/232 [==============================] - 0s 65us/step - loss: 0.3970 - accuracy: 0.8879\n",
      "Epoch 36/100\n",
      "232/232 [==============================] - 0s 65us/step - loss: 0.3892 - accuracy: 0.9095\n",
      "Epoch 37/100\n",
      "232/232 [==============================] - 0s 56us/step - loss: 0.3807 - accuracy: 0.9095\n",
      "Epoch 38/100\n",
      "232/232 [==============================] - 0s 52us/step - loss: 0.3750 - accuracy: 0.9138\n",
      "Epoch 39/100\n",
      "232/232 [==============================] - 0s 56us/step - loss: 0.3656 - accuracy: 0.9181\n",
      "Epoch 40/100\n",
      "232/232 [==============================] - 0s 52us/step - loss: 0.3617 - accuracy: 0.9138\n",
      "Epoch 41/100\n",
      "232/232 [==============================] - 0s 56us/step - loss: 0.3567 - accuracy: 0.9310\n",
      "Epoch 42/100\n",
      "232/232 [==============================] - 0s 56us/step - loss: 0.3584 - accuracy: 0.9397\n",
      "Epoch 43/100\n",
      "232/232 [==============================] - 0s 56us/step - loss: 0.3436 - accuracy: 0.9138\n",
      "Epoch 44/100\n",
      "232/232 [==============================] - 0s 60us/step - loss: 0.3436 - accuracy: 0.9397\n",
      "Epoch 45/100\n",
      "232/232 [==============================] - 0s 60us/step - loss: 0.3277 - accuracy: 0.9353\n",
      "Epoch 46/100\n",
      "232/232 [==============================] - 0s 56us/step - loss: 0.3209 - accuracy: 0.9310\n",
      "Epoch 47/100\n",
      "232/232 [==============================] - 0s 60us/step - loss: 0.3205 - accuracy: 0.9353\n",
      "Epoch 48/100\n",
      "232/232 [==============================] - 0s 65us/step - loss: 0.3125 - accuracy: 0.9483\n",
      "Epoch 49/100\n",
      "232/232 [==============================] - 0s 65us/step - loss: 0.3237 - accuracy: 0.9181\n",
      "Epoch 50/100\n",
      "232/232 [==============================] - 0s 69us/step - loss: 0.3135 - accuracy: 0.9526\n",
      "Epoch 51/100\n",
      "232/232 [==============================] - 0s 56us/step - loss: 0.2988 - accuracy: 0.9397\n",
      "Epoch 52/100\n",
      "232/232 [==============================] - 0s 60us/step - loss: 0.2922 - accuracy: 0.9397\n",
      "Epoch 53/100\n",
      "232/232 [==============================] - 0s 65us/step - loss: 0.2843 - accuracy: 0.9397\n",
      "Epoch 54/100\n",
      "232/232 [==============================] - 0s 65us/step - loss: 0.2807 - accuracy: 0.9397\n",
      "Epoch 55/100\n",
      "232/232 [==============================] - 0s 65us/step - loss: 0.2828 - accuracy: 0.9526\n",
      "Epoch 56/100\n",
      "232/232 [==============================] - 0s 60us/step - loss: 0.2776 - accuracy: 0.9353\n",
      "Epoch 57/100\n",
      "232/232 [==============================] - 0s 56us/step - loss: 0.2749 - accuracy: 0.9569\n",
      "Epoch 58/100\n",
      "232/232 [==============================] - 0s 60us/step - loss: 0.2614 - accuracy: 0.9483\n",
      "Epoch 59/100\n",
      "232/232 [==============================] - 0s 60us/step - loss: 0.2624 - accuracy: 0.9526\n",
      "Epoch 60/100\n",
      "232/232 [==============================] - 0s 56us/step - loss: 0.2550 - accuracy: 0.9569\n",
      "Epoch 61/100\n",
      "232/232 [==============================] - 0s 56us/step - loss: 0.2470 - accuracy: 0.9483\n",
      "Epoch 62/100\n",
      "232/232 [==============================] - 0s 52us/step - loss: 0.2610 - accuracy: 0.9569\n",
      "Epoch 63/100\n",
      "232/232 [==============================] - 0s 52us/step - loss: 0.2407 - accuracy: 0.9440\n",
      "Epoch 64/100\n",
      "232/232 [==============================] - 0s 56us/step - loss: 0.2376 - accuracy: 0.9612\n",
      "Epoch 65/100\n",
      "232/232 [==============================] - 0s 56us/step - loss: 0.2361 - accuracy: 0.9483\n",
      "Epoch 66/100\n",
      "232/232 [==============================] - 0s 60us/step - loss: 0.2429 - accuracy: 0.9569\n",
      "Epoch 67/100\n",
      "232/232 [==============================] - 0s 65us/step - loss: 0.2261 - accuracy: 0.9483\n",
      "Epoch 68/100\n",
      "232/232 [==============================] - 0s 60us/step - loss: 0.2219 - accuracy: 0.9526\n",
      "Epoch 69/100\n",
      "232/232 [==============================] - 0s 60us/step - loss: 0.2189 - accuracy: 0.9612\n",
      "Epoch 70/100\n",
      "232/232 [==============================] - 0s 65us/step - loss: 0.2141 - accuracy: 0.9655\n",
      "Epoch 71/100\n",
      "232/232 [==============================] - 0s 65us/step - loss: 0.2105 - accuracy: 0.9612\n",
      "Epoch 72/100\n",
      "232/232 [==============================] - 0s 60us/step - loss: 0.2089 - accuracy: 0.9612\n",
      "Epoch 73/100\n",
      "232/232 [==============================] - 0s 65us/step - loss: 0.2062 - accuracy: 0.9612\n",
      "Epoch 74/100\n",
      "232/232 [==============================] - 0s 65us/step - loss: 0.2033 - accuracy: 0.9698\n",
      "Epoch 75/100\n",
      "232/232 [==============================] - 0s 60us/step - loss: 0.2015 - accuracy: 0.9698\n",
      "Epoch 76/100\n",
      "232/232 [==============================] - 0s 65us/step - loss: 0.1962 - accuracy: 0.9569\n",
      "Epoch 77/100\n",
      "232/232 [==============================] - 0s 56us/step - loss: 0.1917 - accuracy: 0.9612\n",
      "Epoch 78/100\n",
      "232/232 [==============================] - 0s 60us/step - loss: 0.1896 - accuracy: 0.9698\n",
      "Epoch 79/100\n",
      "232/232 [==============================] - 0s 56us/step - loss: 0.1851 - accuracy: 0.9612\n",
      "Epoch 80/100\n",
      "232/232 [==============================] - 0s 56us/step - loss: 0.1888 - accuracy: 0.9612\n",
      "Epoch 81/100\n",
      "232/232 [==============================] - 0s 56us/step - loss: 0.1811 - accuracy: 0.9698\n",
      "Epoch 82/100\n",
      "232/232 [==============================] - 0s 56us/step - loss: 0.1782 - accuracy: 0.9612\n",
      "Epoch 83/100\n",
      "232/232 [==============================] - 0s 56us/step - loss: 0.1774 - accuracy: 0.9698\n",
      "Epoch 84/100\n",
      "232/232 [==============================] - 0s 52us/step - loss: 0.1736 - accuracy: 0.9698\n",
      "Epoch 85/100\n",
      "232/232 [==============================] - 0s 56us/step - loss: 0.1719 - accuracy: 0.9612\n",
      "Epoch 86/100\n",
      "232/232 [==============================] - 0s 60us/step - loss: 0.1676 - accuracy: 0.9741\n",
      "Epoch 87/100\n",
      "232/232 [==============================] - 0s 59us/step - loss: 0.1630 - accuracy: 0.9698\n",
      "Epoch 88/100\n",
      "232/232 [==============================] - 0s 60us/step - loss: 0.1669 - accuracy: 0.9612\n",
      "Epoch 89/100\n",
      "232/232 [==============================] - 0s 65us/step - loss: 0.1587 - accuracy: 0.9655\n",
      "Epoch 90/100\n",
      "232/232 [==============================] - 0s 73us/step - loss: 0.1593 - accuracy: 0.9741\n",
      "Epoch 91/100\n",
      "232/232 [==============================] - 0s 69us/step - loss: 0.1528 - accuracy: 0.9698\n",
      "Epoch 92/100\n",
      "232/232 [==============================] - 0s 65us/step - loss: 0.1569 - accuracy: 0.9741\n",
      "Epoch 93/100\n",
      "232/232 [==============================] - 0s 60us/step - loss: 0.1492 - accuracy: 0.9698\n",
      "Epoch 94/100\n",
      "232/232 [==============================] - 0s 56us/step - loss: 0.1567 - accuracy: 0.9698\n",
      "Epoch 95/100\n",
      "232/232 [==============================] - 0s 60us/step - loss: 0.1452 - accuracy: 0.9612\n",
      "Epoch 96/100\n",
      "232/232 [==============================] - 0s 60us/step - loss: 0.1456 - accuracy: 0.9655\n",
      "Epoch 97/100\n",
      "232/232 [==============================] - 0s 56us/step - loss: 0.1375 - accuracy: 0.9698\n",
      "Epoch 98/100\n",
      "232/232 [==============================] - 0s 52us/step - loss: 0.1387 - accuracy: 0.9741\n",
      "Epoch 99/100\n",
      "232/232 [==============================] - 0s 56us/step - loss: 0.1340 - accuracy: 0.9698\n",
      "Epoch 100/100\n",
      "232/232 [==============================] - 0s 47us/step - loss: 0.1381 - accuracy: 0.9698\n",
      "116/116 [==============================] - 0s 371us/step\n",
      "Epoch 1/100\n",
      "232/232 [==============================] - 0s 698us/step - loss: 0.6932 - accuracy: 0.4353\n",
      "Epoch 2/100\n",
      "232/232 [==============================] - 0s 52us/step - loss: 0.6931 - accuracy: 0.5216\n",
      "Epoch 3/100\n",
      "232/232 [==============================] - 0s 52us/step - loss: 0.6931 - accuracy: 0.5216\n",
      "Epoch 4/100\n",
      "232/232 [==============================] - 0s 47us/step - loss: 0.6929 - accuracy: 0.5216\n",
      "Epoch 5/100\n",
      "232/232 [==============================] - 0s 52us/step - loss: 0.6928 - accuracy: 0.5216\n",
      "Epoch 6/100\n",
      "232/232 [==============================] - 0s 47us/step - loss: 0.6924 - accuracy: 0.5216\n",
      "Epoch 7/100\n",
      "232/232 [==============================] - 0s 52us/step - loss: 0.6918 - accuracy: 0.5216\n",
      "Epoch 8/100\n",
      "232/232 [==============================] - 0s 60us/step - loss: 0.6913 - accuracy: 0.5216\n",
      "Epoch 9/100\n",
      "232/232 [==============================] - 0s 52us/step - loss: 0.6902 - accuracy: 0.5216\n",
      "Epoch 10/100\n",
      "232/232 [==============================] - 0s 52us/step - loss: 0.6895 - accuracy: 0.5216\n",
      "Epoch 11/100\n",
      "232/232 [==============================] - 0s 52us/step - loss: 0.6883 - accuracy: 0.5216\n",
      "Epoch 12/100\n",
      "232/232 [==============================] - 0s 52us/step - loss: 0.6874 - accuracy: 0.5216\n",
      "Epoch 13/100\n",
      "232/232 [==============================] - 0s 52us/step - loss: 0.6869 - accuracy: 0.5216\n",
      "Epoch 14/100\n",
      "232/232 [==============================] - 0s 52us/step - loss: 0.6845 - accuracy: 0.5216\n",
      "Epoch 15/100\n",
      "232/232 [==============================] - 0s 52us/step - loss: 0.6823 - accuracy: 0.5216\n",
      "Epoch 16/100\n",
      "232/232 [==============================] - 0s 52us/step - loss: 0.6791 - accuracy: 0.5216\n",
      "Epoch 17/100\n",
      "232/232 [==============================] - 0s 56us/step - loss: 0.6741 - accuracy: 0.5216\n",
      "Epoch 18/100\n",
      "232/232 [==============================] - 0s 52us/step - loss: 0.6690 - accuracy: 0.5216\n",
      "Epoch 19/100\n",
      "232/232 [==============================] - 0s 73us/step - loss: 0.6618 - accuracy: 0.5216\n",
      "Epoch 20/100\n",
      "232/232 [==============================] - 0s 56us/step - loss: 0.6521 - accuracy: 0.5216\n",
      "Epoch 21/100\n",
      "232/232 [==============================] - 0s 56us/step - loss: 0.6403 - accuracy: 0.5991\n",
      "Epoch 22/100\n",
      "232/232 [==============================] - 0s 52us/step - loss: 0.6278 - accuracy: 0.6422\n",
      "Epoch 23/100\n",
      "232/232 [==============================] - 0s 60us/step - loss: 0.6159 - accuracy: 0.5603\n",
      "Epoch 24/100\n",
      "232/232 [==============================] - 0s 56us/step - loss: 0.6000 - accuracy: 0.7759\n",
      "Epoch 25/100\n",
      "232/232 [==============================] - 0s 69us/step - loss: 0.5833 - accuracy: 0.6293\n",
      "Epoch 26/100\n",
      "232/232 [==============================] - 0s 60us/step - loss: 0.5671 - accuracy: 0.7155\n",
      "Epoch 27/100\n",
      "232/232 [==============================] - 0s 60us/step - loss: 0.5512 - accuracy: 0.7716\n",
      "Epoch 28/100\n",
      "232/232 [==============================] - 0s 69us/step - loss: 0.5368 - accuracy: 0.7414\n",
      "Epoch 29/100\n",
      "232/232 [==============================] - 0s 65us/step - loss: 0.5240 - accuracy: 0.7716\n",
      "Epoch 30/100\n",
      "232/232 [==============================] - 0s 65us/step - loss: 0.5113 - accuracy: 0.8017\n",
      "Epoch 31/100\n",
      "232/232 [==============================] - 0s 65us/step - loss: 0.4998 - accuracy: 0.7888\n",
      "Epoch 32/100\n",
      "232/232 [==============================] - 0s 65us/step - loss: 0.4885 - accuracy: 0.8578\n",
      "Epoch 33/100\n",
      "232/232 [==============================] - 0s 69us/step - loss: 0.4766 - accuracy: 0.8405\n",
      "Epoch 34/100\n",
      "232/232 [==============================] - 0s 69us/step - loss: 0.4670 - accuracy: 0.8621\n",
      "Epoch 35/100\n",
      "232/232 [==============================] - 0s 65us/step - loss: 0.4560 - accuracy: 0.8578\n",
      "Epoch 36/100\n",
      "232/232 [==============================] - 0s 56us/step - loss: 0.4486 - accuracy: 0.9009\n",
      "Epoch 37/100\n",
      "232/232 [==============================] - 0s 60us/step - loss: 0.4419 - accuracy: 0.8319\n",
      "Epoch 38/100\n",
      "232/232 [==============================] - 0s 52us/step - loss: 0.4335 - accuracy: 0.8707\n",
      "Epoch 39/100\n",
      "232/232 [==============================] - 0s 56us/step - loss: 0.4230 - accuracy: 0.9397\n",
      "Epoch 40/100\n",
      "232/232 [==============================] - 0s 52us/step - loss: 0.4226 - accuracy: 0.8534\n",
      "Epoch 41/100\n",
      "232/232 [==============================] - 0s 52us/step - loss: 0.4096 - accuracy: 0.9353\n",
      "Epoch 42/100\n",
      "232/232 [==============================] - 0s 60us/step - loss: 0.4045 - accuracy: 0.9267\n",
      "Epoch 43/100\n",
      "232/232 [==============================] - 0s 60us/step - loss: 0.3972 - accuracy: 0.9310\n",
      "Epoch 44/100\n",
      "232/232 [==============================] - 0s 56us/step - loss: 0.3965 - accuracy: 0.8922\n",
      "Epoch 45/100\n",
      "232/232 [==============================] - 0s 56us/step - loss: 0.3888 - accuracy: 0.9267\n",
      "Epoch 46/100\n",
      "232/232 [==============================] - 0s 56us/step - loss: 0.3858 - accuracy: 0.9526\n",
      "Epoch 47/100\n",
      "232/232 [==============================] - 0s 52us/step - loss: 0.3776 - accuracy: 0.9440\n",
      "Epoch 48/100\n",
      "232/232 [==============================] - 0s 56us/step - loss: 0.3737 - accuracy: 0.9397\n",
      "Epoch 49/100\n",
      "232/232 [==============================] - 0s 52us/step - loss: 0.3683 - accuracy: 0.9353\n",
      "Epoch 50/100\n",
      "232/232 [==============================] - 0s 47us/step - loss: 0.3711 - accuracy: 0.9397\n",
      "Epoch 51/100\n",
      "232/232 [==============================] - 0s 56us/step - loss: 0.3608 - accuracy: 0.9353\n",
      "Epoch 52/100\n",
      "232/232 [==============================] - 0s 52us/step - loss: 0.3552 - accuracy: 0.9483\n",
      "Epoch 53/100\n",
      "232/232 [==============================] - 0s 52us/step - loss: 0.3542 - accuracy: 0.9612\n",
      "Epoch 54/100\n",
      "232/232 [==============================] - 0s 56us/step - loss: 0.3523 - accuracy: 0.9267\n",
      "Epoch 55/100\n",
      "232/232 [==============================] - 0s 56us/step - loss: 0.3523 - accuracy: 0.9612\n",
      "Epoch 56/100\n",
      "232/232 [==============================] - 0s 56us/step - loss: 0.3517 - accuracy: 0.9138\n",
      "Epoch 57/100\n",
      "232/232 [==============================] - 0s 56us/step - loss: 0.3509 - accuracy: 0.9655\n",
      "Epoch 58/100\n",
      "232/232 [==============================] - 0s 52us/step - loss: 0.3347 - accuracy: 0.9655\n",
      "Epoch 59/100\n",
      "232/232 [==============================] - 0s 56us/step - loss: 0.3320 - accuracy: 0.9483\n",
      "Epoch 60/100\n",
      "232/232 [==============================] - 0s 56us/step - loss: 0.3297 - accuracy: 0.9698\n",
      "Epoch 61/100\n",
      "232/232 [==============================] - 0s 56us/step - loss: 0.3262 - accuracy: 0.9397\n",
      "Epoch 62/100\n",
      "232/232 [==============================] - 0s 56us/step - loss: 0.3230 - accuracy: 0.9655\n",
      "Epoch 63/100\n",
      "232/232 [==============================] - 0s 56us/step - loss: 0.3189 - accuracy: 0.9569\n",
      "Epoch 64/100\n",
      "232/232 [==============================] - 0s 52us/step - loss: 0.3202 - accuracy: 0.9440\n",
      "Epoch 65/100\n",
      "232/232 [==============================] - 0s 52us/step - loss: 0.3129 - accuracy: 0.9698\n",
      "Epoch 66/100\n",
      "232/232 [==============================] - 0s 47us/step - loss: 0.3117 - accuracy: 0.9526\n",
      "Epoch 67/100\n",
      "232/232 [==============================] - 0s 52us/step - loss: 0.3080 - accuracy: 0.9741\n",
      "Epoch 68/100\n",
      "232/232 [==============================] - 0s 52us/step - loss: 0.3053 - accuracy: 0.9612\n",
      "Epoch 69/100\n",
      "232/232 [==============================] - 0s 54us/step - loss: 0.3030 - accuracy: 0.9741\n",
      "Epoch 70/100\n",
      "232/232 [==============================] - 0s 47us/step - loss: 0.2985 - accuracy: 0.9741\n",
      "Epoch 71/100\n",
      "232/232 [==============================] - 0s 56us/step - loss: 0.2987 - accuracy: 0.9612\n",
      "Epoch 72/100\n",
      "232/232 [==============================] - 0s 56us/step - loss: 0.2945 - accuracy: 0.9698\n",
      "Epoch 73/100\n",
      "232/232 [==============================] - 0s 56us/step - loss: 0.2910 - accuracy: 0.9741\n",
      "Epoch 74/100\n",
      "232/232 [==============================] - 0s 52us/step - loss: 0.2887 - accuracy: 0.9741\n",
      "Epoch 75/100\n",
      "232/232 [==============================] - 0s 56us/step - loss: 0.2881 - accuracy: 0.9698\n",
      "Epoch 76/100\n",
      "232/232 [==============================] - 0s 60us/step - loss: 0.2837 - accuracy: 0.9741\n",
      "Epoch 77/100\n",
      "232/232 [==============================] - 0s 60us/step - loss: 0.2820 - accuracy: 0.9741\n",
      "Epoch 78/100\n",
      "232/232 [==============================] - 0s 56us/step - loss: 0.2850 - accuracy: 0.9828\n",
      "Epoch 79/100\n",
      "232/232 [==============================] - 0s 52us/step - loss: 0.2950 - accuracy: 0.9440\n",
      "Epoch 80/100\n",
      "232/232 [==============================] - 0s 56us/step - loss: 0.2745 - accuracy: 0.9828\n",
      "Epoch 81/100\n",
      "232/232 [==============================] - 0s 56us/step - loss: 0.2727 - accuracy: 0.9741\n",
      "Epoch 82/100\n",
      "232/232 [==============================] - 0s 47us/step - loss: 0.2699 - accuracy: 0.9741\n",
      "Epoch 83/100\n",
      "232/232 [==============================] - 0s 52us/step - loss: 0.2710 - accuracy: 0.9784\n",
      "Epoch 84/100\n",
      "232/232 [==============================] - 0s 60us/step - loss: 0.2694 - accuracy: 0.9698\n",
      "Epoch 85/100\n",
      "232/232 [==============================] - 0s 56us/step - loss: 0.2650 - accuracy: 0.9871\n",
      "Epoch 86/100\n",
      "232/232 [==============================] - 0s 52us/step - loss: 0.2664 - accuracy: 0.9655\n",
      "Epoch 87/100\n",
      "232/232 [==============================] - 0s 52us/step - loss: 0.2662 - accuracy: 0.9741\n",
      "Epoch 88/100\n",
      "232/232 [==============================] - 0s 52us/step - loss: 0.2813 - accuracy: 0.9397\n",
      "Epoch 89/100\n",
      "232/232 [==============================] - 0s 47us/step - loss: 0.2635 - accuracy: 0.9784\n",
      "Epoch 90/100\n",
      "232/232 [==============================] - 0s 52us/step - loss: 0.2550 - accuracy: 0.9741\n",
      "Epoch 91/100\n",
      "232/232 [==============================] - 0s 52us/step - loss: 0.2555 - accuracy: 0.9871\n",
      "Epoch 92/100\n",
      "232/232 [==============================] - 0s 52us/step - loss: 0.2549 - accuracy: 0.9698\n",
      "Epoch 93/100\n",
      "232/232 [==============================] - 0s 52us/step - loss: 0.2713 - accuracy: 0.9655\n",
      "Epoch 94/100\n",
      "232/232 [==============================] - 0s 56us/step - loss: 0.2430 - accuracy: 0.9871\n",
      "Epoch 95/100\n",
      "232/232 [==============================] - 0s 69us/step - loss: 0.2496 - accuracy: 0.9741\n",
      "Epoch 96/100\n",
      "232/232 [==============================] - 0s 69us/step - loss: 0.2448 - accuracy: 0.9828\n",
      "Epoch 97/100\n",
      "232/232 [==============================] - 0s 73us/step - loss: 0.2422 - accuracy: 0.9741\n",
      "Epoch 98/100\n",
      "232/232 [==============================] - 0s 56us/step - loss: 0.2516 - accuracy: 0.9828\n",
      "Epoch 99/100\n",
      "232/232 [==============================] - 0s 56us/step - loss: 0.2418 - accuracy: 0.9698\n",
      "Epoch 100/100\n",
      "232/232 [==============================] - 0s 47us/step - loss: 0.2369 - accuracy: 0.9828\n",
      "116/116 [==============================] - 0s 483us/step\n",
      "Epoch 1/100\n",
      "232/232 [==============================] - 0s 701us/step - loss: 0.6932 - accuracy: 0.4353\n",
      "Epoch 2/100\n",
      "232/232 [==============================] - 0s 65us/step - loss: 0.6932 - accuracy: 0.5043\n",
      "Epoch 3/100\n",
      "232/232 [==============================] - 0s 69us/step - loss: 0.6932 - accuracy: 0.4698\n",
      "Epoch 4/100\n",
      "232/232 [==============================] - 0s 69us/step - loss: 0.6932 - accuracy: 0.4957\n",
      "Epoch 5/100\n",
      "232/232 [==============================] - 0s 65us/step - loss: 0.6932 - accuracy: 0.4957\n",
      "Epoch 6/100\n",
      "232/232 [==============================] - 0s 69us/step - loss: 0.6932 - accuracy: 0.4957\n",
      "Epoch 7/100\n",
      "232/232 [==============================] - 0s 65us/step - loss: 0.6932 - accuracy: 0.4957\n",
      "Epoch 8/100\n",
      "232/232 [==============================] - 0s 73us/step - loss: 0.6932 - accuracy: 0.4957\n",
      "Epoch 9/100\n",
      "232/232 [==============================] - 0s 69us/step - loss: 0.6932 - accuracy: 0.4957\n",
      "Epoch 10/100\n",
      "232/232 [==============================] - 0s 69us/step - loss: 0.6932 - accuracy: 0.5043\n",
      "Epoch 11/100\n",
      "232/232 [==============================] - 0s 73us/step - loss: 0.6931 - accuracy: 0.5043\n",
      "Epoch 12/100\n",
      "232/232 [==============================] - 0s 84us/step - loss: 0.6932 - accuracy: 0.5043\n",
      "Epoch 13/100\n",
      "232/232 [==============================] - 0s 69us/step - loss: 0.6932 - accuracy: 0.4784\n",
      "Epoch 14/100\n",
      "232/232 [==============================] - 0s 73us/step - loss: 0.6931 - accuracy: 0.5129\n",
      "Epoch 15/100\n",
      "232/232 [==============================] - 0s 69us/step - loss: 0.6931 - accuracy: 0.5043\n",
      "Epoch 16/100\n",
      "232/232 [==============================] - 0s 73us/step - loss: 0.6931 - accuracy: 0.5043\n",
      "Epoch 17/100\n",
      "232/232 [==============================] - 0s 65us/step - loss: 0.6931 - accuracy: 0.5043\n",
      "Epoch 18/100\n",
      "232/232 [==============================] - 0s 69us/step - loss: 0.6931 - accuracy: 0.5043\n",
      "Epoch 19/100\n",
      "232/232 [==============================] - 0s 65us/step - loss: 0.6931 - accuracy: 0.5043\n",
      "Epoch 20/100\n",
      "232/232 [==============================] - 0s 65us/step - loss: 0.6931 - accuracy: 0.5043\n",
      "Epoch 21/100\n",
      "232/232 [==============================] - 0s 69us/step - loss: 0.6931 - accuracy: 0.5043\n",
      "Epoch 22/100\n",
      "232/232 [==============================] - 0s 65us/step - loss: 0.6931 - accuracy: 0.5043\n",
      "Epoch 23/100\n",
      "232/232 [==============================] - 0s 69us/step - loss: 0.6931 - accuracy: 0.5043\n",
      "Epoch 24/100\n",
      "232/232 [==============================] - 0s 69us/step - loss: 0.6931 - accuracy: 0.5043\n",
      "Epoch 25/100\n",
      "232/232 [==============================] - 0s 69us/step - loss: 0.6931 - accuracy: 0.5043\n",
      "Epoch 26/100\n",
      "232/232 [==============================] - 0s 65us/step - loss: 0.6931 - accuracy: 0.5043\n",
      "Epoch 27/100\n",
      "232/232 [==============================] - 0s 65us/step - loss: 0.6931 - accuracy: 0.5043\n",
      "Epoch 28/100\n",
      "232/232 [==============================] - 0s 65us/step - loss: 0.6931 - accuracy: 0.5043\n",
      "Epoch 29/100\n",
      "232/232 [==============================] - 0s 65us/step - loss: 0.6931 - accuracy: 0.5043\n",
      "Epoch 30/100\n",
      "232/232 [==============================] - 0s 69us/step - loss: 0.6931 - accuracy: 0.5043\n",
      "Epoch 31/100\n",
      "232/232 [==============================] - 0s 65us/step - loss: 0.6931 - accuracy: 0.5043\n",
      "Epoch 32/100\n",
      "232/232 [==============================] - 0s 60us/step - loss: 0.6931 - accuracy: 0.5043\n",
      "Epoch 33/100\n",
      "232/232 [==============================] - 0s 69us/step - loss: 0.6931 - accuracy: 0.5043\n",
      "Epoch 34/100\n",
      "232/232 [==============================] - 0s 82us/step - loss: 0.6931 - accuracy: 0.5043\n",
      "Epoch 35/100\n",
      "232/232 [==============================] - 0s 69us/step - loss: 0.6931 - accuracy: 0.5043\n",
      "Epoch 36/100\n",
      "232/232 [==============================] - 0s 82us/step - loss: 0.6931 - accuracy: 0.5043\n",
      "Epoch 37/100\n",
      "232/232 [==============================] - 0s 60us/step - loss: 0.6931 - accuracy: 0.5043\n",
      "Epoch 38/100\n",
      "232/232 [==============================] - 0s 60us/step - loss: 0.6931 - accuracy: 0.5043\n",
      "Epoch 39/100\n",
      "232/232 [==============================] - 0s 56us/step - loss: 0.6931 - accuracy: 0.5043\n",
      "Epoch 40/100\n",
      "232/232 [==============================] - 0s 60us/step - loss: 0.6931 - accuracy: 0.5043\n",
      "Epoch 41/100\n",
      "232/232 [==============================] - 0s 69us/step - loss: 0.6931 - accuracy: 0.5043\n",
      "Epoch 42/100\n",
      "232/232 [==============================] - 0s 65us/step - loss: 0.6931 - accuracy: 0.5043\n",
      "Epoch 43/100\n",
      "232/232 [==============================] - 0s 60us/step - loss: 0.6931 - accuracy: 0.5043\n",
      "Epoch 44/100\n",
      "232/232 [==============================] - 0s 60us/step - loss: 0.6931 - accuracy: 0.5043\n",
      "Epoch 45/100\n",
      "232/232 [==============================] - 0s 60us/step - loss: 0.6931 - accuracy: 0.5043\n",
      "Epoch 46/100\n",
      "232/232 [==============================] - 0s 65us/step - loss: 0.6931 - accuracy: 0.5043\n",
      "Epoch 47/100\n",
      "232/232 [==============================] - 0s 60us/step - loss: 0.6931 - accuracy: 0.5043\n",
      "Epoch 48/100\n",
      "232/232 [==============================] - 0s 69us/step - loss: 0.6931 - accuracy: 0.5043\n",
      "Epoch 49/100\n",
      "232/232 [==============================] - 0s 60us/step - loss: 0.6931 - accuracy: 0.5043\n",
      "Epoch 50/100\n",
      "232/232 [==============================] - 0s 60us/step - loss: 0.6931 - accuracy: 0.5043\n",
      "Epoch 51/100\n",
      "232/232 [==============================] - 0s 56us/step - loss: 0.6931 - accuracy: 0.5043\n",
      "Epoch 52/100\n",
      "232/232 [==============================] - 0s 56us/step - loss: 0.6931 - accuracy: 0.5043\n",
      "Epoch 53/100\n",
      "232/232 [==============================] - 0s 65us/step - loss: 0.6931 - accuracy: 0.5043\n",
      "Epoch 54/100\n",
      "232/232 [==============================] - 0s 60us/step - loss: 0.6931 - accuracy: 0.5043\n",
      "Epoch 55/100\n",
      "232/232 [==============================] - 0s 65us/step - loss: 0.6931 - accuracy: 0.5043\n",
      "Epoch 56/100\n",
      "232/232 [==============================] - 0s 60us/step - loss: 0.6931 - accuracy: 0.5043\n",
      "Epoch 57/100\n",
      "232/232 [==============================] - 0s 60us/step - loss: 0.6931 - accuracy: 0.5043\n",
      "Epoch 58/100\n",
      "232/232 [==============================] - 0s 69us/step - loss: 0.6931 - accuracy: 0.5043\n",
      "Epoch 59/100\n",
      "232/232 [==============================] - 0s 60us/step - loss: 0.6931 - accuracy: 0.5043\n",
      "Epoch 60/100\n",
      "232/232 [==============================] - 0s 65us/step - loss: 0.6931 - accuracy: 0.5043\n",
      "Epoch 61/100\n",
      "232/232 [==============================] - 0s 69us/step - loss: 0.6931 - accuracy: 0.5043\n",
      "Epoch 62/100\n",
      "232/232 [==============================] - 0s 60us/step - loss: 0.6931 - accuracy: 0.5043\n",
      "Epoch 63/100\n",
      "232/232 [==============================] - 0s 65us/step - loss: 0.6931 - accuracy: 0.5043\n",
      "Epoch 64/100\n",
      "232/232 [==============================] - 0s 65us/step - loss: 0.6931 - accuracy: 0.5043\n",
      "Epoch 65/100\n",
      "232/232 [==============================] - 0s 60us/step - loss: 0.6931 - accuracy: 0.5043\n",
      "Epoch 66/100\n",
      "232/232 [==============================] - 0s 60us/step - loss: 0.6931 - accuracy: 0.5043\n",
      "Epoch 67/100\n",
      "232/232 [==============================] - 0s 60us/step - loss: 0.6931 - accuracy: 0.5043\n",
      "Epoch 68/100\n",
      "232/232 [==============================] - 0s 60us/step - loss: 0.6931 - accuracy: 0.5043\n",
      "Epoch 69/100\n",
      "232/232 [==============================] - 0s 56us/step - loss: 0.6931 - accuracy: 0.5043\n",
      "Epoch 70/100\n",
      "232/232 [==============================] - 0s 60us/step - loss: 0.6931 - accuracy: 0.5043\n",
      "Epoch 71/100\n",
      "232/232 [==============================] - 0s 60us/step - loss: 0.6931 - accuracy: 0.5043\n",
      "Epoch 72/100\n",
      "232/232 [==============================] - 0s 60us/step - loss: 0.6931 - accuracy: 0.5043\n",
      "Epoch 73/100\n",
      "232/232 [==============================] - 0s 65us/step - loss: 0.6931 - accuracy: 0.5043\n",
      "Epoch 74/100\n",
      "232/232 [==============================] - 0s 60us/step - loss: 0.6931 - accuracy: 0.5043\n",
      "Epoch 75/100\n",
      "232/232 [==============================] - 0s 69us/step - loss: 0.6931 - accuracy: 0.5043\n",
      "Epoch 76/100\n",
      "232/232 [==============================] - 0s 56us/step - loss: 0.6931 - accuracy: 0.5043\n",
      "Epoch 77/100\n",
      "232/232 [==============================] - 0s 60us/step - loss: 0.6931 - accuracy: 0.5043\n",
      "Epoch 78/100\n",
      "232/232 [==============================] - 0s 60us/step - loss: 0.6931 - accuracy: 0.5043\n",
      "Epoch 79/100\n",
      "232/232 [==============================] - 0s 60us/step - loss: 0.6931 - accuracy: 0.5043\n",
      "Epoch 80/100\n",
      "232/232 [==============================] - 0s 60us/step - loss: 0.6931 - accuracy: 0.5043\n",
      "Epoch 81/100\n",
      "232/232 [==============================] - 0s 60us/step - loss: 0.6931 - accuracy: 0.5043\n",
      "Epoch 82/100\n",
      "232/232 [==============================] - 0s 56us/step - loss: 0.6931 - accuracy: 0.5043\n",
      "Epoch 83/100\n",
      "232/232 [==============================] - 0s 52us/step - loss: 0.6931 - accuracy: 0.5043\n",
      "Epoch 84/100\n",
      "232/232 [==============================] - 0s 60us/step - loss: 0.6931 - accuracy: 0.5043\n",
      "Epoch 85/100\n",
      "232/232 [==============================] - 0s 65us/step - loss: 0.6931 - accuracy: 0.5043\n",
      "Epoch 86/100\n",
      "232/232 [==============================] - 0s 56us/step - loss: 0.6931 - accuracy: 0.5043\n",
      "Epoch 87/100\n",
      "232/232 [==============================] - 0s 60us/step - loss: 0.6931 - accuracy: 0.5043\n",
      "Epoch 88/100\n",
      "232/232 [==============================] - 0s 56us/step - loss: 0.6931 - accuracy: 0.5043\n",
      "Epoch 89/100\n",
      "232/232 [==============================] - 0s 56us/step - loss: 0.6931 - accuracy: 0.5043\n",
      "Epoch 90/100\n",
      "232/232 [==============================] - 0s 69us/step - loss: 0.6931 - accuracy: 0.5043\n",
      "Epoch 91/100\n",
      "232/232 [==============================] - 0s 65us/step - loss: 0.6931 - accuracy: 0.5043\n",
      "Epoch 92/100\n",
      "232/232 [==============================] - 0s 82us/step - loss: 0.6931 - accuracy: 0.5043\n",
      "Epoch 93/100\n",
      "232/232 [==============================] - 0s 67us/step - loss: 0.6931 - accuracy: 0.5043\n",
      "Epoch 94/100\n",
      "232/232 [==============================] - 0s 73us/step - loss: 0.6931 - accuracy: 0.5043\n",
      "Epoch 95/100\n",
      "232/232 [==============================] - 0s 65us/step - loss: 0.6931 - accuracy: 0.5043\n",
      "Epoch 96/100\n",
      "232/232 [==============================] - 0s 73us/step - loss: 0.6931 - accuracy: 0.5043\n",
      "Epoch 97/100\n",
      "232/232 [==============================] - 0s 65us/step - loss: 0.6931 - accuracy: 0.5043\n",
      "Epoch 98/100\n",
      "232/232 [==============================] - 0s 65us/step - loss: 0.6931 - accuracy: 0.5043\n",
      "Epoch 99/100\n",
      "232/232 [==============================] - 0s 69us/step - loss: 0.6931 - accuracy: 0.5043\n",
      "Epoch 100/100\n",
      "232/232 [==============================] - 0s 73us/step - loss: 0.6931 - accuracy: 0.5043\n",
      "116/116 [==============================] - 0s 586us/step\n",
      "Accuracy mean: 0.7959770063559214\n",
      "Accuracy variance: 0.22800958570272506\n"
     ]
    }
   ],
   "source": [
    "# Evaluating the ANN\n",
    "from keras.wrappers.scikit_learn import KerasClassifier\n",
    "from sklearn.model_selection import cross_val_score\n",
    "from keras.models import Sequential # initialize neural network library\n",
    "from keras.layers import Dense # build our layers library\n",
    "def build_classifier():\n",
    "    classifier = Sequential() # initialize neural network\n",
    "    classifier.add(Dense(units = 8, kernel_initializer = 'uniform', activation = 'relu', input_dim = x_train.shape[1]))\n",
    "    classifier.add(Dense(units = 4, kernel_initializer = 'uniform', activation = 'relu'))\n",
    "    classifier.add(Dense(units = 1, kernel_initializer = 'uniform', activation = 'sigmoid'))\n",
    "    classifier.compile(optimizer = 'adam', loss = 'binary_crossentropy', metrics = ['accuracy'])\n",
    "    return classifier\n",
    "classifier = KerasClassifier(build_fn = build_classifier, epochs = 100)\n",
    "accuracies = cross_val_score(estimator = classifier, X = x_train, y = y_train, cv = 3)\n",
    "mean = accuracies.mean()\n",
    "variance = accuracies.std()\n",
    "print(\"Accuracy mean: \"+ str(mean))\n",
    "print(\"Accuracy variance: \"+ str(variance))"
   ]
  },
  {
   "cell_type": "code",
   "execution_count": null,
   "metadata": {},
   "outputs": [],
   "source": []
  },
  {
   "cell_type": "code",
   "execution_count": null,
   "metadata": {},
   "outputs": [],
   "source": []
  }
 ],
 "metadata": {
  "kernelspec": {
   "display_name": "Python 3",
   "language": "python",
   "name": "python3"
  },
  "language_info": {
   "codemirror_mode": {
    "name": "ipython",
    "version": 3
   },
   "file_extension": ".py",
   "mimetype": "text/x-python",
   "name": "python",
   "nbconvert_exporter": "python",
   "pygments_lexer": "ipython3",
   "version": "3.7.6"
  }
 },
 "nbformat": 4,
 "nbformat_minor": 4
}
